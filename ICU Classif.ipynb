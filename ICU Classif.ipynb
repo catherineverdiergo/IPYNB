{
 "cells": [
  {
   "cell_type": "markdown",
   "metadata": {},
   "source": [
    "# Classification / Clustering with PyRiemann and ICU waves Data"
   ]
  },
  {
   "cell_type": "code",
   "execution_count": 42,
   "metadata": {
    "collapsed": false
   },
   "outputs": [
    {
     "name": "stdout",
     "output_type": "stream",
     "text": [
      "/opt/mapr/EDSIADM/anaconda2/envs/pyaphp\n",
      "2.7.12 |Continuum Analytics, Inc.| (default, Jul  2 2016, 17:42:40) \n",
      "[GCC 4.4.7 20120313 (Red Hat 4.4.7-1)]\n"
     ]
    }
   ],
   "source": [
    "import sys\n",
    "print sys.prefix\n",
    "print sys.version"
   ]
  },
  {
   "cell_type": "code",
   "execution_count": 56,
   "metadata": {
    "collapsed": false
   },
   "outputs": [
    {
     "name": "stdout",
     "output_type": "stream",
     "text": [
      "np.__version__ : 1.11.1\n",
      "scipy.__version__ : 0.18.0\n",
      "pd.__version__: 0.18.1\n",
      "sklearn.__version__: 0.17.1\n"
     ]
    }
   ],
   "source": [
    "import pyodbc\n",
    "import pandas as pd\n",
    "import numpy as np\n",
    "import scipy, sklearn\n",
    "from matplotlib import pyplot as plt\n",
    "import seaborn as sns\n",
    "from datetime import datetime, timedelta\n",
    "import re\n",
    "import pyriemann\n",
    "from time import gmtime, strftime\n",
    "%matplotlib inline\n",
    "pd.options.mode.chained_assignment = None # to avoid pandas warnings\n",
    "print \"np.__version__ :\", np.__version__\n",
    "print \"scipy.__version__ :\", scipy.__version__\n",
    "print \"pd.__version__:\", pd.__version__\n",
    "print \"sklearn.__version__:\", sklearn.__version__"
   ]
  },
  {
   "cell_type": "code",
   "execution_count": 77,
   "metadata": {
    "collapsed": false
   },
   "outputs": [
    {
     "data": {
      "text/plain": [
       "((2701, 4, 96), 2701)"
      ]
     },
     "execution_count": 77,
     "metadata": {},
     "output_type": "execute_result"
    }
   ],
   "source": [
    "# Load Matrix and target\n",
    "X = np.load(\"icu_matrix1.pyriemann.npy\")\n",
    "y = np.load(\"icu_target1.pyriemann.npy\")\n",
    "X.shape, np.size(y)"
   ]
  },
  {
   "cell_type": "code",
   "execution_count": 78,
   "metadata": {
    "collapsed": false
   },
   "outputs": [
    {
     "name": "stdout",
     "output_type": "stream",
     "text": [
      "592\n",
      "21.9178082192\n"
     ]
    }
   ],
   "source": [
    "print(len(np.nonzero(y)[0]))\n",
    "print(float(len(np.nonzero(y)[0])) / float(len(y))* 100.)"
   ]
  },
  {
   "cell_type": "code",
   "execution_count": 79,
   "metadata": {
    "collapsed": false
   },
   "outputs": [],
   "source": [
    "from sklearn.preprocessing import scale\n",
    "original_X = X\n",
    "for case in range(X.shape[0]):\n",
    "    X[case] = scale(X[case])"
   ]
  },
  {
   "cell_type": "code",
   "execution_count": 90,
   "metadata": {
    "collapsed": false
   },
   "outputs": [
    {
     "data": {
      "text/plain": [
       "(2701, 4, 4)"
      ]
     },
     "execution_count": 90,
     "metadata": {},
     "output_type": "execute_result"
    }
   ],
   "source": [
    "from pyriemann.estimation import Covariances\n",
    "from pyriemann.classification import MDM, FgMDM\n",
    "from sklearn.cross_validation import cross_val_score\n",
    "\n",
    "# estimate covariances matrices\n",
    "cov = pyriemann.estimation.Covariances().fit_transform(X)\n",
    "cov.shape"
   ]
  },
  {
   "cell_type": "code",
   "execution_count": 91,
   "metadata": {
    "collapsed": false
   },
   "outputs": [
    {
     "name": "stdout",
     "output_type": "stream",
     "text": [
      "[[ 0.05524812 -0.01379255 -0.03346225 -0.00799332]\n",
      " [-0.01379255  0.00431128  0.00873074  0.00075053]\n",
      " [-0.03346225  0.00873074  0.02112291  0.0036086 ]\n",
      " [-0.00799332  0.00075053  0.0036086   0.00363419]]\n",
      "[[  1.05524812e+00  -1.37925505e-02  -3.34622514e-02  -7.99331647e-03]\n",
      " [ -1.37925505e-02   1.00431128e+00   8.73073889e-03   7.50527514e-04]\n",
      " [ -3.34622514e-02   8.73073889e-03   1.02112291e+00   3.60859853e-03]\n",
      " [ -7.99331647e-03   7.50527514e-04   3.60859853e-03   1.00363419e+00]]\n"
     ]
    }
   ],
   "source": [
    "#\n",
    "# Cov regularization\n",
    "#\n",
    "Id = np.eye(cov.shape[1])\n",
    "# alpha = 1e-01\n",
    "alpha = 1  # no regularization\n",
    "for case in range(cov.shape[0]):\n",
    "    if case == 0:\n",
    "        print(cov[case])\n",
    "    cov[case] += alpha*Id\n",
    "    if case == 0:\n",
    "        print(cov[case])"
   ]
  },
  {
   "cell_type": "code",
   "execution_count": 92,
   "metadata": {
    "collapsed": false
   },
   "outputs": [],
   "source": [
    "# cross validation\n",
    "mdm = pyriemann.classification.MDM(metric='riemann')\n",
    "# mdm = pyriemann.classification.MDM(metric='riemann')\n",
    "accuracy = cross_val_score(mdm,cov,y, cv=5)"
   ]
  },
  {
   "cell_type": "code",
   "execution_count": 93,
   "metadata": {
    "collapsed": false
   },
   "outputs": [
    {
     "name": "stdout",
     "output_type": "stream",
     "text": [
      "0.690861501456\n"
     ]
    },
    {
     "data": {
      "text/plain": [
       "[<matplotlib.lines.Line2D at 0x7f6a92f68f90>]"
      ]
     },
     "execution_count": 93,
     "metadata": {},
     "output_type": "execute_result"
    },
    {
     "data": {
      "image/png": "[encoded data removed]",
      "text/plain": [
       "<matplotlib.figure.Figure at 0x7f6a93080350>"
      ]
     },
     "metadata": {},
     "output_type": "display_data"
    }
   ],
   "source": [
    "print(accuracy.mean())\n",
    "plt.plot(range(len(accuracy)), accuracy)"
   ]
  },
  {
   "cell_type": "code",
   "execution_count": null,
   "metadata": {
    "collapsed": true
   },
   "outputs": [],
   "source": []
  }
 ],
 "metadata": {
  "kernelspec": {
   "display_name": "Python [pyaphp]",
   "language": "python",
   "name": "Python [pyaphp]"
  },
  "language_info": {
   "codemirror_mode": {
    "name": "ipython",
    "version": 2
   },
   "file_extension": ".py",
   "mimetype": "text/x-python",
   "name": "python",
   "nbconvert_exporter": "python",
   "pygments_lexer": "ipython2",
   "version": "2.7.12"
  }
 },
 "nbformat": 4,
 "nbformat_minor": 1
}
