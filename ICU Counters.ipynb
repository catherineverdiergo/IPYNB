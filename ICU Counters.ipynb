{
 "cells": [
  {
   "cell_type": "code",
   "execution_count": 1,
   "metadata": {
    "collapsed": false
   },
   "outputs": [
    {
     "name": "stdout",
     "output_type": "stream",
     "text": [
      "/opt/mapr/EDSIADM/anaconda2/envs/pyaphp\n",
      "2.7.12 |Continuum Analytics, Inc.| (default, Jul  2 2016, 17:42:40) \n",
      "[GCC 4.4.7 20120313 (Red Hat 4.4.7-1)]\n"
     ]
    }
   ],
   "source": [
    "import sys\n",
    "print sys.prefix\n",
    "print sys.version"
   ]
  },
  {
   "cell_type": "markdown",
   "metadata": {},
   "source": [
    "# 3 tables created in our Drill/parquet database to speed up queries"
   ]
  },
  {
   "cell_type": "code",
   "execution_count": 2,
   "metadata": {
    "collapsed": true
   },
   "outputs": [],
   "source": [
    "\"\"\"\n",
    "Table : icu_nda_mouv_ufr_tr\n",
    "==> mouvements related with ICU entities\n",
    "\"\"\"\n",
    "# create table icu_nda_mouv_ufr_tr as\n",
    "# select n.* from nda_mouv_ufr_tr n, icu_ufr u\n",
    "# where u.ids_ufr=n.ids_ufr\n",
    "\n",
    "\"\"\"\n",
    "Table : icu_sensor_24\n",
    "==> measures done in ICU entities and in the first 24h after entrances\n",
    "\"\"\"\n",
    "# create table icu_sensor_24 as\n",
    "# select TO_DATE(n.dt_deb_mouv_ufr) as dt_deb, s.* \n",
    "#       from icu_sensors s, icu_nda_mouv_ufr_tr n\n",
    "#       where cast(s.id_nda as VARCHAR)=n.id_nda and\n",
    "#       s.dt_insert >= n.dt_deb_mouv_ufr and\n",
    "#       s.dt_insert <= n.dt_deb_mouv_ufr + interval '1' DAY(2)\n",
    "\n",
    "# # Création d'une table id_nda, min_dt_deb_mouv, max_dt_deb_mouv, max_dt_fin_mouv\n",
    "# # pour les visites en soins intensifs\n",
    "\n",
    "\"\"\"\n",
    "Table : icu_pat_info\n",
    "==> information about patients involved in previous mouvements and measures\n",
    "\"\"\"\n",
    "# create table icu_pat_info as\n",
    "# select n.id_nda, p.age,\n",
    "#     min(n.dt_deb_mouv_ufr) as min_dt_deb_mouv,\n",
    "#     max(n.dt_deb_mouv_ufr) as max_dt_deb_mouv,\n",
    "#     max(n.dt_fin_mouv_ufr) as max_dt_fin_mouv,\n",
    "#     p.cd_sex_tr, p.dt_deces\n",
    "#     from nda_mouv_ufr_tr n, patient_tr p\n",
    "#     where p.ids_pat = n.ids_pat and\n",
    "#     n.id_nda in (select distinct cast(id_nda as VARCHAR) from icu_sensor_24)\n",
    "#     group by n.id_nda, p.age, p.cd_sex_tr, p.dt_deces"
   ]
  },
  {
   "cell_type": "code",
   "execution_count": 3,
   "metadata": {
    "collapsed": false
   },
   "outputs": [],
   "source": [
    "import pyodbc\n",
    "import pandas as pd\n",
    "import numpy as np\n",
    "from matplotlib import pyplot as plt\n",
    "import seaborn as sns\n",
    "from datetime import datetime, timedelta\n",
    "import re\n",
    "%matplotlib inline"
   ]
  },
  {
   "cell_type": "markdown",
   "metadata": {},
   "source": [
    "# function to store a query result in a pandas DataFrame"
   ]
  },
  {
   "cell_type": "code",
   "execution_count": 4,
   "metadata": {
    "collapsed": true
   },
   "outputs": [],
   "source": [
    "def df_from_query(conn, query):\n",
    "    \"\"\"\n",
    "    Query an ODBC datasource and set results in a pandas Dataframe\n",
    "    \n",
    "    Parameters\n",
    "    ----------\n",
    "    pyodbc.Connection conn : Datasource ODBC connection\n",
    "    string           query : query to execute on datasource\n",
    "    \"\"\"\n",
    "    c = conn.cursor()\n",
    "    c.execute(query)\n",
    "    cols = [column[0] for column in c.description]\n",
    "    data = []\n",
    "    for row in c.fetchall():\n",
    "        data.append(tuple(row))\n",
    "    df = pd.DataFrame(data, columns=cols)\n",
    "    return df"
   ]
  },
  {
   "cell_type": "markdown",
   "metadata": {},
   "source": [
    "# Connection to Drill database"
   ]
  },
  {
   "cell_type": "code",
   "execution_count": 5,
   "metadata": {
    "collapsed": false
   },
   "outputs": [],
   "source": [
    "#\n",
    "# Drillbit ODBC connection\n",
    "#\n",
    "# conn = pyodbc.connect(\"DSN=MapR ODBC Driver for Drill DSN\", autocommit=True)\n",
    "conn = pyodbc.connect(\"DSN=drill_eds\", autocommit=True)"
   ]
  },
  {
   "cell_type": "markdown",
   "metadata": {},
   "source": [
    "# Number of measures by type"
   ]
  },
  {
   "cell_type": "code",
   "execution_count": 6,
   "metadata": {
    "collapsed": false
   },
   "outputs": [
    {
     "data": {
      "text/html": [
       "<div>\n",
       "<table border=\"1\" class=\"dataframe\">\n",
       "  <thead>\n",
       "    <tr style=\"text-align: right;\">\n",
       "      <th></th>\n",
       "      <th>counter</th>\n",
       "      <th>id_measure_type</th>\n",
       "      <th>label</th>\n",
       "    </tr>\n",
       "  </thead>\n",
       "  <tbody>\n",
       "    <tr>\n",
       "      <th>0</th>\n",
       "      <td>246490</td>\n",
       "      <td>10102</td>\n",
       "      <td>Fréquence cardiaque</td>\n",
       "    </tr>\n",
       "    <tr>\n",
       "      <th>1</th>\n",
       "      <td>243159</td>\n",
       "      <td>10168</td>\n",
       "      <td>Saturation pulsée Oxygène</td>\n",
       "    </tr>\n",
       "    <tr>\n",
       "      <th>2</th>\n",
       "      <td>237342</td>\n",
       "      <td>10120</td>\n",
       "      <td>Frequence respiratoire</td>\n",
       "    </tr>\n",
       "    <tr>\n",
       "      <th>3</th>\n",
       "      <td>191174</td>\n",
       "      <td>10121</td>\n",
       "      <td>Mode Ventilatoire</td>\n",
       "    </tr>\n",
       "    <tr>\n",
       "      <th>4</th>\n",
       "      <td>146710</td>\n",
       "      <td>11</td>\n",
       "      <td>Pression artérielle non invasive systolique</td>\n",
       "    </tr>\n",
       "    <tr>\n",
       "      <th>5</th>\n",
       "      <td>145689</td>\n",
       "      <td>12</td>\n",
       "      <td>Pression artérielle non invasive diastolique</td>\n",
       "    </tr>\n",
       "    <tr>\n",
       "      <th>6</th>\n",
       "      <td>142949</td>\n",
       "      <td>13</td>\n",
       "      <td>Pression artérielle non invasive moyenne</td>\n",
       "    </tr>\n",
       "    <tr>\n",
       "      <th>7</th>\n",
       "      <td>140900</td>\n",
       "      <td>10281</td>\n",
       "      <td>MEGS PAS Intervalle 2h</td>\n",
       "    </tr>\n",
       "    <tr>\n",
       "      <th>8</th>\n",
       "      <td>140433</td>\n",
       "      <td>10282</td>\n",
       "      <td>MEGS PAM intervalle 2h</td>\n",
       "    </tr>\n",
       "    <tr>\n",
       "      <th>9</th>\n",
       "      <td>140124</td>\n",
       "      <td>10283</td>\n",
       "      <td>MEGS PAD intervalle 2h</td>\n",
       "    </tr>\n",
       "    <tr>\n",
       "      <th>10</th>\n",
       "      <td>98847</td>\n",
       "      <td>16</td>\n",
       "      <td>Pression artérielle moyenne</td>\n",
       "    </tr>\n",
       "    <tr>\n",
       "      <th>11</th>\n",
       "      <td>98680</td>\n",
       "      <td>15</td>\n",
       "      <td>Pression artérielle diastolique</td>\n",
       "    </tr>\n",
       "    <tr>\n",
       "      <th>12</th>\n",
       "      <td>98658</td>\n",
       "      <td>14</td>\n",
       "      <td>Pression artérielle systolique</td>\n",
       "    </tr>\n",
       "    <tr>\n",
       "      <th>13</th>\n",
       "      <td>84168</td>\n",
       "      <td>10044</td>\n",
       "      <td>Fraction inspirée en oxygène</td>\n",
       "    </tr>\n",
       "    <tr>\n",
       "      <th>14</th>\n",
       "      <td>82303</td>\n",
       "      <td>10171</td>\n",
       "      <td>Volume courant</td>\n",
       "    </tr>\n",
       "    <tr>\n",
       "      <th>15</th>\n",
       "      <td>82022</td>\n",
       "      <td>10173</td>\n",
       "      <td>Volume minute</td>\n",
       "    </tr>\n",
       "    <tr>\n",
       "      <th>16</th>\n",
       "      <td>81635</td>\n",
       "      <td>10174</td>\n",
       "      <td>Pic de pression respiratoire</td>\n",
       "    </tr>\n",
       "    <tr>\n",
       "      <th>17</th>\n",
       "      <td>80178</td>\n",
       "      <td>10170</td>\n",
       "      <td>Pression expiration positive</td>\n",
       "    </tr>\n",
       "    <tr>\n",
       "      <th>18</th>\n",
       "      <td>56074</td>\n",
       "      <td>10172</td>\n",
       "      <td>Pression de plateau</td>\n",
       "    </tr>\n",
       "    <tr>\n",
       "      <th>19</th>\n",
       "      <td>32218</td>\n",
       "      <td>10280</td>\n",
       "      <td>MEGS FC intervalle 2h</td>\n",
       "    </tr>\n",
       "  </tbody>\n",
       "</table>\n",
       "</div>"
      ],
      "text/plain": [
       "    counter  id_measure_type                                         label\n",
       "0    246490            10102                           Fréquence cardiaque\n",
       "1    243159            10168                     Saturation pulsée Oxygène\n",
       "2    237342            10120                        Frequence respiratoire\n",
       "3    191174            10121                             Mode Ventilatoire\n",
       "4    146710               11   Pression artérielle non invasive systolique\n",
       "5    145689               12  Pression artérielle non invasive diastolique\n",
       "6    142949               13      Pression artérielle non invasive moyenne\n",
       "7    140900            10281                        MEGS PAS Intervalle 2h\n",
       "8    140433            10282                        MEGS PAM intervalle 2h\n",
       "9    140124            10283                        MEGS PAD intervalle 2h\n",
       "10    98847               16                   Pression artérielle moyenne\n",
       "11    98680               15               Pression artérielle diastolique\n",
       "12    98658               14                Pression artérielle systolique\n",
       "13    84168            10044                  Fraction inspirée en oxygène\n",
       "14    82303            10171                                Volume courant\n",
       "15    82022            10173                                 Volume minute\n",
       "16    81635            10174                  Pic de pression respiratoire\n",
       "17    80178            10170                  Pression expiration positive\n",
       "18    56074            10172                           Pression de plateau\n",
       "19    32218            10280                         MEGS FC intervalle 2h"
      ]
     },
     "execution_count": 6,
     "metadata": {},
     "output_type": "execute_result"
    }
   ],
   "source": [
    "#\n",
    "# Most frequent types of measures between H0 and H24 in ICUs\n",
    "#\n",
    "q1 = \"select count(1) as counter,s.id_measure_type, r.label \\\n",
    "      from icu_sensor_24 s, ref_measure r \\\n",
    "      where s.id_measure_type = cast(r.code as INT) \\\n",
    "      and s.dt_cancel = '' \\\n",
    "      group by s.id_measure_type, r.label \\\n",
    "      order by counter desc, s.id_measure_type, r.label\"\n",
    "\n",
    "df = df_from_query(conn, q1)\n",
    "df['label'] = df['label'].str.decode('iso-8859-1').str.encode('utf8')\n",
    "df.head(20)"
   ]
  },
  {
   "cell_type": "code",
   "execution_count": 7,
   "metadata": {
    "collapsed": false
   },
   "outputs": [
    {
     "data": {
      "text/plain": [
       "[<matplotlib.text.Text at 0x7f79220ce850>,\n",
       " <matplotlib.text.Text at 0x7f79220d9c50>,\n",
       " <matplotlib.text.Text at 0x7f7922136e50>,\n",
       " <matplotlib.text.Text at 0x7f792212d0d0>,\n",
       " <matplotlib.text.Text at 0x7f79220199d0>,\n",
       " <matplotlib.text.Text at 0x7f792202d190>,\n",
       " <matplotlib.text.Text at 0x7f7922036cd0>,\n",
       " <matplotlib.text.Text at 0x7f7921fc0310>,\n",
       " <matplotlib.text.Text at 0x7f7921fc0a90>,\n",
       " <matplotlib.text.Text at 0x7f7921fc8250>,\n",
       " <matplotlib.text.Text at 0x7f7921fc89d0>,\n",
       " <matplotlib.text.Text at 0x7f79221361d0>,\n",
       " <matplotlib.text.Text at 0x7f7921fd2310>,\n",
       " <matplotlib.text.Text at 0x7f7921fd2a90>,\n",
       " <matplotlib.text.Text at 0x7f7921fdb250>,\n",
       " <matplotlib.text.Text at 0x7f7921fdb9d0>,\n",
       " <matplotlib.text.Text at 0x7f7921fe6190>,\n",
       " <matplotlib.text.Text at 0x7f7921fe6910>,\n",
       " <matplotlib.text.Text at 0x7f7921ff00d0>,\n",
       " <matplotlib.text.Text at 0x7f7921ff0850>]"
      ]
     },
     "execution_count": 7,
     "metadata": {},
     "output_type": "execute_result"
    },
    {
     "data": {
      "image/png": "[encoded data removed]",
      "text/plain": [
       "<matplotlib.figure.Figure at 0x7f79263be110>"
      ]
     },
     "metadata": {},
     "output_type": "display_data"
    }
   ],
   "source": [
    "ax = df[['counter', 'label']].head(20).plot(kind = 'bar', color = '#5566b7', alpha=0.6, figsize=(15, 5))\n",
    "ax.set_xticklabels(df['label'].str.decode('utf8'), rotation=40, fontsize=12, ha='right')"
   ]
  },
  {
   "cell_type": "markdown",
   "metadata": {},
   "source": [
    "# Number of UCUs stays having measures in the first 24h after entrances"
   ]
  },
  {
   "cell_type": "code",
   "execution_count": 8,
   "metadata": {
    "collapsed": false
   },
   "outputs": [
    {
     "data": {
      "text/html": [
       "<div>\n",
       "<table border=\"1\" class=\"dataframe\">\n",
       "  <thead>\n",
       "    <tr style=\"text-align: right;\">\n",
       "      <th></th>\n",
       "      <th>EXPR$0</th>\n",
       "    </tr>\n",
       "  </thead>\n",
       "  <tbody>\n",
       "    <tr>\n",
       "      <th>0</th>\n",
       "      <td>3557</td>\n",
       "    </tr>\n",
       "  </tbody>\n",
       "</table>\n",
       "</div>"
      ],
      "text/plain": [
       "   EXPR$0\n",
       "0    3557"
      ]
     },
     "execution_count": 8,
     "metadata": {},
     "output_type": "execute_result"
    }
   ],
   "source": [
    "#\n",
    "# How many ICUs stays (with H0-24 measures) ?\n",
    "#\n",
    "q2 = \"select count(distinct s.id_nda) \\\n",
    "    from icu_sensor_24 s \\\n",
    "    where s.id_measure_type in (10102, 10120, 11, 12, 14, 15) \\\n",
    "    and s.dt_cancel = ''\"\n",
    "\n",
    "df_from_query(conn, q2)"
   ]
  },
  {
   "cell_type": "markdown",
   "metadata": {},
   "source": [
    "# Select H0-24 measures of interest by stay:\n",
    "<ul>\n",
    "<li>10102 : Heart rate</li>\n",
    "<li>10120 : Respiration rate</li>\n",
    "<li>&nbsp;&nbsp;&nbsp;&nbsp;&nbsp;&nbsp;&nbsp;11 : ABP systolic (invasive)</li>\n",
    "<li>&nbsp;&nbsp;&nbsp;&nbsp;&nbsp;&nbsp;&nbsp;12 : ABP diastolic (invasive)</li>\n",
    "<li>&nbsp;&nbsp;&nbsp;&nbsp;&nbsp;&nbsp;&nbsp;14 : ABP systolic (not invasive)</li>\n",
    "<li>&nbsp;&nbsp;&nbsp;&nbsp;&nbsp;&nbsp;&nbsp;15 : ABP diastolic (not invasive)</li>\n",
    "</ul>\n",
    "\n",
    "note: we have composed a new key to identify a unique ICU admission <br>\n",
    "This key is id_nda(APHP stay) + dt_deb (entrance in ICU)<br>\n",
    "Indeed a patient can have several ICUs entrances during an APHP stay"
   ]
  },
  {
   "cell_type": "code",
   "execution_count": 9,
   "metadata": {
    "collapsed": false
   },
   "outputs": [
    {
     "data": {
      "text/html": [
       "<div>\n",
       "<table border=\"1\" class=\"dataframe\">\n",
       "  <thead>\n",
       "    <tr style=\"text-align: right;\">\n",
       "      <th></th>\n",
       "      <th>id_ndaj1</th>\n",
       "      <th>id_measure_type</th>\n",
       "      <th>counter</th>\n",
       "    </tr>\n",
       "  </thead>\n",
       "  <tbody>\n",
       "    <tr>\n",
       "      <th>0</th>\n",
       "      <td>27445892014-05-08</td>\n",
       "      <td>11</td>\n",
       "      <td>67</td>\n",
       "    </tr>\n",
       "    <tr>\n",
       "      <th>1</th>\n",
       "      <td>27445892014-05-08</td>\n",
       "      <td>12</td>\n",
       "      <td>66</td>\n",
       "    </tr>\n",
       "    <tr>\n",
       "      <th>2</th>\n",
       "      <td>27445892014-05-08</td>\n",
       "      <td>14</td>\n",
       "      <td>41</td>\n",
       "    </tr>\n",
       "    <tr>\n",
       "      <th>3</th>\n",
       "      <td>27445892014-05-08</td>\n",
       "      <td>15</td>\n",
       "      <td>41</td>\n",
       "    </tr>\n",
       "    <tr>\n",
       "      <th>4</th>\n",
       "      <td>27445892014-05-08</td>\n",
       "      <td>10102</td>\n",
       "      <td>97</td>\n",
       "    </tr>\n",
       "  </tbody>\n",
       "</table>\n",
       "</div>"
      ],
      "text/plain": [
       "            id_ndaj1  id_measure_type  counter\n",
       "0  27445892014-05-08               11       67\n",
       "1  27445892014-05-08               12       66\n",
       "2  27445892014-05-08               14       41\n",
       "3  27445892014-05-08               15       41\n",
       "4  27445892014-05-08            10102       97"
      ]
     },
     "execution_count": 9,
     "metadata": {},
     "output_type": "execute_result"
    }
   ],
   "source": [
    "#\n",
    "# Number of measures by stay and measure type (only 10102, 10120, 11, 12, 14, 15)\n",
    "#\n",
    "q3 = \"select CONCAT(cast(id_nda as VARCHAR),cast(TO_DATE(dt_deb) as VARCHAR)) as id_ndaj1, \\\n",
    "      s.id_measure_type, count(1) as counter \\\n",
    "      from icu_sensor_24 s \\\n",
    "      where s.id_measure_type in (10102, 10120, 11, 12, 14, 15) \\\n",
    "      and s.dt_cancel = '' \\\n",
    "      group by CONCAT(cast(id_nda as VARCHAR),cast(TO_DATE(dt_deb) as VARCHAR)), s.id_measure_type \\\n",
    "      order by CONCAT(cast(id_nda as VARCHAR),cast(TO_DATE(dt_deb) as VARCHAR)), s.id_measure_type\"\n",
    "\n",
    "df_feat = df_from_query(conn, q3)\n",
    "df_feat.head()"
   ]
  },
  {
   "cell_type": "code",
   "execution_count": 10,
   "metadata": {
    "collapsed": false
   },
   "outputs": [
    {
     "data": {
      "text/plain": [
       "(16394, 3)"
      ]
     },
     "execution_count": 10,
     "metadata": {},
     "output_type": "execute_result"
    }
   ],
   "source": [
    "df_feat.shape"
   ]
  },
  {
   "cell_type": "code",
   "execution_count": 11,
   "metadata": {
    "collapsed": false
   },
   "outputs": [
    {
     "data": {
      "text/html": [
       "<div>\n",
       "<table border=\"1\" class=\"dataframe\">\n",
       "  <thead>\n",
       "    <tr style=\"text-align: right;\">\n",
       "      <th>id_measure_type</th>\n",
       "      <th>11</th>\n",
       "      <th>12</th>\n",
       "      <th>14</th>\n",
       "      <th>15</th>\n",
       "      <th>10102</th>\n",
       "      <th>10120</th>\n",
       "    </tr>\n",
       "    <tr>\n",
       "      <th>id_ndaj1</th>\n",
       "      <th></th>\n",
       "      <th></th>\n",
       "      <th></th>\n",
       "      <th></th>\n",
       "      <th></th>\n",
       "      <th></th>\n",
       "    </tr>\n",
       "  </thead>\n",
       "  <tbody>\n",
       "    <tr>\n",
       "      <th>27445892014-05-08</th>\n",
       "      <td>67.0</td>\n",
       "      <td>66.0</td>\n",
       "      <td>41.0</td>\n",
       "      <td>41.0</td>\n",
       "      <td>97.0</td>\n",
       "      <td>96.0</td>\n",
       "    </tr>\n",
       "    <tr>\n",
       "      <th>27445892014-06-24</th>\n",
       "      <td>25.0</td>\n",
       "      <td>25.0</td>\n",
       "      <td>96.0</td>\n",
       "      <td>96.0</td>\n",
       "      <td>96.0</td>\n",
       "      <td>96.0</td>\n",
       "    </tr>\n",
       "    <tr>\n",
       "      <th>27542662014-05-05</th>\n",
       "      <td>NaN</td>\n",
       "      <td>NaN</td>\n",
       "      <td>83.0</td>\n",
       "      <td>83.0</td>\n",
       "      <td>83.0</td>\n",
       "      <td>83.0</td>\n",
       "    </tr>\n",
       "    <tr>\n",
       "      <th>27556882014-04-30</th>\n",
       "      <td>NaN</td>\n",
       "      <td>NaN</td>\n",
       "      <td>NaN</td>\n",
       "      <td>NaN</td>\n",
       "      <td>2.0</td>\n",
       "      <td>2.0</td>\n",
       "    </tr>\n",
       "    <tr>\n",
       "      <th>27584082014-05-12</th>\n",
       "      <td>NaN</td>\n",
       "      <td>NaN</td>\n",
       "      <td>93.0</td>\n",
       "      <td>93.0</td>\n",
       "      <td>93.0</td>\n",
       "      <td>92.0</td>\n",
       "    </tr>\n",
       "    <tr>\n",
       "      <th>27606232014-05-01</th>\n",
       "      <td>NaN</td>\n",
       "      <td>NaN</td>\n",
       "      <td>60.0</td>\n",
       "      <td>60.0</td>\n",
       "      <td>60.0</td>\n",
       "      <td>60.0</td>\n",
       "    </tr>\n",
       "    <tr>\n",
       "      <th>27613822014-05-01</th>\n",
       "      <td>5.0</td>\n",
       "      <td>NaN</td>\n",
       "      <td>14.0</td>\n",
       "      <td>14.0</td>\n",
       "      <td>17.0</td>\n",
       "      <td>17.0</td>\n",
       "    </tr>\n",
       "    <tr>\n",
       "      <th>27632822014-05-02</th>\n",
       "      <td>43.0</td>\n",
       "      <td>NaN</td>\n",
       "      <td>NaN</td>\n",
       "      <td>NaN</td>\n",
       "      <td>84.0</td>\n",
       "      <td>84.0</td>\n",
       "    </tr>\n",
       "    <tr>\n",
       "      <th>27642382014-05-06</th>\n",
       "      <td>NaN</td>\n",
       "      <td>NaN</td>\n",
       "      <td>48.0</td>\n",
       "      <td>48.0</td>\n",
       "      <td>47.0</td>\n",
       "      <td>46.0</td>\n",
       "    </tr>\n",
       "    <tr>\n",
       "      <th>27662792014-05-04</th>\n",
       "      <td>9.0</td>\n",
       "      <td>4.0</td>\n",
       "      <td>2.0</td>\n",
       "      <td>2.0</td>\n",
       "      <td>7.0</td>\n",
       "      <td>5.0</td>\n",
       "    </tr>\n",
       "  </tbody>\n",
       "</table>\n",
       "</div>"
      ],
      "text/plain": [
       "id_measure_type    11     12     14     15     10102  10120\n",
       "id_ndaj1                                                   \n",
       "27445892014-05-08   67.0   66.0   41.0   41.0   97.0   96.0\n",
       "27445892014-06-24   25.0   25.0   96.0   96.0   96.0   96.0\n",
       "27542662014-05-05    NaN    NaN   83.0   83.0   83.0   83.0\n",
       "27556882014-04-30    NaN    NaN    NaN    NaN    2.0    2.0\n",
       "27584082014-05-12    NaN    NaN   93.0   93.0   93.0   92.0\n",
       "27606232014-05-01    NaN    NaN   60.0   60.0   60.0   60.0\n",
       "27613822014-05-01    5.0    NaN   14.0   14.0   17.0   17.0\n",
       "27632822014-05-02   43.0    NaN    NaN    NaN   84.0   84.0\n",
       "27642382014-05-06    NaN    NaN   48.0   48.0   47.0   46.0\n",
       "27662792014-05-04    9.0    4.0    2.0    2.0    7.0    5.0"
      ]
     },
     "execution_count": 11,
     "metadata": {},
     "output_type": "execute_result"
    }
   ],
   "source": [
    "#\n",
    "# Do a pivot to get a matrix\n",
    "#\n",
    "df_pivot = df_feat.pivot(index='id_ndaj1',columns='id_measure_type',values='counter')\n",
    "df_pivot.head(10)"
   ]
  },
  {
   "cell_type": "code",
   "execution_count": 12,
   "metadata": {
    "collapsed": false
   },
   "outputs": [
    {
     "data": {
      "text/plain": [
       "array([[<matplotlib.axes._subplots.AxesSubplot object at 0x7f7921fdbe90>,\n",
       "        <matplotlib.axes._subplots.AxesSubplot object at 0x7f7921f26090>],\n",
       "       [<matplotlib.axes._subplots.AxesSubplot object at 0x7f7921efbfd0>,\n",
       "        <matplotlib.axes._subplots.AxesSubplot object at 0x7f7921db2810>],\n",
       "       [<matplotlib.axes._subplots.AxesSubplot object at 0x7f7921d6f890>,\n",
       "        <matplotlib.axes._subplots.AxesSubplot object at 0x7f7921db9410>]], dtype=object)"
      ]
     },
     "execution_count": 12,
     "metadata": {},
     "output_type": "execute_result"
    },
    {
     "data": {
      "image/png": "[encoded data removed]",
      "text/plain": [
       "<matplotlib.figure.Figure at 0x7f7921fc0fd0>"
      ]
     },
     "metadata": {},
     "output_type": "display_data"
    }
   ],
   "source": [
    "df_pivot.hist(figsize=(15, 10), bins=50, alpha=0.7)"
   ]
  },
  {
   "cell_type": "markdown",
   "metadata": {},
   "source": [
    "# Remove rows when no HR measure or no RR measure"
   ]
  },
  {
   "cell_type": "code",
   "execution_count": 13,
   "metadata": {
    "collapsed": false
   },
   "outputs": [
    {
     "data": {
      "text/plain": [
       "(3202, 6)"
      ]
     },
     "execution_count": 13,
     "metadata": {},
     "output_type": "execute_result"
    }
   ],
   "source": [
    "df_pivot1 = df_pivot[df_pivot[10102].notnull() & df_pivot[10120].notnull()]\n",
    "df_pivot1.shape"
   ]
  },
  {
   "cell_type": "markdown",
   "metadata": {},
   "source": [
    "# Remove rows when incomplete ABPs"
   ]
  },
  {
   "cell_type": "code",
   "execution_count": 14,
   "metadata": {
    "collapsed": false
   },
   "outputs": [
    {
     "data": {
      "text/plain": [
       "(3198, 6)"
      ]
     },
     "execution_count": 14,
     "metadata": {},
     "output_type": "execute_result"
    }
   ],
   "source": [
    "df_pivot1 = df_pivot1[(df_pivot1[11].notnull() & df_pivot1[12].notnull()) | (df_pivot1[14].notnull() & df_pivot1[15].notnull())]\n",
    "df_pivot1.shape"
   ]
  },
  {
   "cell_type": "markdown",
   "metadata": {},
   "source": [
    "# Keep rows only when measures are more than 10 for HR, RR and ABPs"
   ]
  },
  {
   "cell_type": "code",
   "execution_count": 15,
   "metadata": {
    "collapsed": false
   },
   "outputs": [
    {
     "name": "stdout",
     "output_type": "stream",
     "text": [
      "(2892, 6)\n",
      "(2838, 6)\n"
     ]
    }
   ],
   "source": [
    "# !!! Tracer la courbe des effectifs en fonction du nombre de points\n",
    "\n",
    "nb_min_pts = 10\n",
    "df_pivot2 = df_pivot1[((df_pivot1[11]>=nb_min_pts) & (df_pivot1[12]>=nb_min_pts)) | \\\n",
    "                      ((df_pivot1[14]>=nb_min_pts) & (df_pivot1[15]>=nb_min_pts))]\n",
    "print(df_pivot2.shape)\n",
    "df_pivot2 = df_pivot2[(df_pivot2[10102]>=nb_min_pts) & (df_pivot2[10120]>=nb_min_pts)]\n",
    "print(df_pivot2.shape)"
   ]
  },
  {
   "cell_type": "markdown",
   "metadata": {},
   "source": [
    "# Filter ==> keep only patients more than 18 years old"
   ]
  },
  {
   "cell_type": "code",
   "execution_count": 16,
   "metadata": {
    "collapsed": false
   },
   "outputs": [],
   "source": [
    "q4 = \"select distinct CONCAT(cast(s.id_nda as VARCHAR),cast(TO_DATE(s.dt_deb) as VARCHAR)) as id_ndaj1, \\\n",
    "p.age, p.dt_deces from icu_pat_info p, icu_sensor_24 s \\\n",
    "where p.id_nda = cast(s.id_nda as VARCHAR) \\\n",
    "and s.dt_cancel = ''\"\n",
    "df_pat = df_from_query(conn, q4)"
   ]
  },
  {
   "cell_type": "code",
   "execution_count": 17,
   "metadata": {
    "collapsed": false
   },
   "outputs": [
    {
     "data": {
      "text/html": [
       "<div>\n",
       "<table border=\"1\" class=\"dataframe\">\n",
       "  <thead>\n",
       "    <tr style=\"text-align: right;\">\n",
       "      <th>id_measure_type</th>\n",
       "      <th>11</th>\n",
       "      <th>12</th>\n",
       "      <th>14</th>\n",
       "      <th>15</th>\n",
       "      <th>10102</th>\n",
       "      <th>10120</th>\n",
       "      <th>id_ndaj1</th>\n",
       "    </tr>\n",
       "    <tr>\n",
       "      <th>id_ndaj1</th>\n",
       "      <th></th>\n",
       "      <th></th>\n",
       "      <th></th>\n",
       "      <th></th>\n",
       "      <th></th>\n",
       "      <th></th>\n",
       "      <th></th>\n",
       "    </tr>\n",
       "  </thead>\n",
       "  <tbody>\n",
       "    <tr>\n",
       "      <th>27445892014-05-08</th>\n",
       "      <td>67.0</td>\n",
       "      <td>66.0</td>\n",
       "      <td>41.0</td>\n",
       "      <td>41.0</td>\n",
       "      <td>97.0</td>\n",
       "      <td>96.0</td>\n",
       "      <td>27445892014-05-08</td>\n",
       "    </tr>\n",
       "    <tr>\n",
       "      <th>27445892014-06-24</th>\n",
       "      <td>25.0</td>\n",
       "      <td>25.0</td>\n",
       "      <td>96.0</td>\n",
       "      <td>96.0</td>\n",
       "      <td>96.0</td>\n",
       "      <td>96.0</td>\n",
       "      <td>27445892014-06-24</td>\n",
       "    </tr>\n",
       "    <tr>\n",
       "      <th>27542662014-05-05</th>\n",
       "      <td>NaN</td>\n",
       "      <td>NaN</td>\n",
       "      <td>83.0</td>\n",
       "      <td>83.0</td>\n",
       "      <td>83.0</td>\n",
       "      <td>83.0</td>\n",
       "      <td>27542662014-05-05</td>\n",
       "    </tr>\n",
       "    <tr>\n",
       "      <th>27584082014-05-12</th>\n",
       "      <td>NaN</td>\n",
       "      <td>NaN</td>\n",
       "      <td>93.0</td>\n",
       "      <td>93.0</td>\n",
       "      <td>93.0</td>\n",
       "      <td>92.0</td>\n",
       "      <td>27584082014-05-12</td>\n",
       "    </tr>\n",
       "    <tr>\n",
       "      <th>27606232014-05-01</th>\n",
       "      <td>NaN</td>\n",
       "      <td>NaN</td>\n",
       "      <td>60.0</td>\n",
       "      <td>60.0</td>\n",
       "      <td>60.0</td>\n",
       "      <td>60.0</td>\n",
       "      <td>27606232014-05-01</td>\n",
       "    </tr>\n",
       "  </tbody>\n",
       "</table>\n",
       "</div>"
      ],
      "text/plain": [
       "id_measure_type      11    12    14    15  10102  10120           id_ndaj1\n",
       "id_ndaj1                                                                  \n",
       "27445892014-05-08  67.0  66.0  41.0  41.0   97.0   96.0  27445892014-05-08\n",
       "27445892014-06-24  25.0  25.0  96.0  96.0   96.0   96.0  27445892014-06-24\n",
       "27542662014-05-05   NaN   NaN  83.0  83.0   83.0   83.0  27542662014-05-05\n",
       "27584082014-05-12   NaN   NaN  93.0  93.0   93.0   92.0  27584082014-05-12\n",
       "27606232014-05-01   NaN   NaN  60.0  60.0   60.0   60.0  27606232014-05-01"
      ]
     },
     "execution_count": 17,
     "metadata": {},
     "output_type": "execute_result"
    }
   ],
   "source": [
    "df_pivot2['id_ndaj1'] = df_pivot2.index\n",
    "df_pivot2.head()"
   ]
  },
  {
   "cell_type": "code",
   "execution_count": 18,
   "metadata": {
    "collapsed": false
   },
   "outputs": [
    {
     "name": "stdout",
     "output_type": "stream",
     "text": [
      "(4253, 3)\n"
     ]
    },
    {
     "data": {
      "text/html": [
       "<div>\n",
       "<table border=\"1\" class=\"dataframe\">\n",
       "  <thead>\n",
       "    <tr style=\"text-align: right;\">\n",
       "      <th></th>\n",
       "      <th>id_ndaj1</th>\n",
       "      <th>age</th>\n",
       "      <th>dt_deces</th>\n",
       "    </tr>\n",
       "  </thead>\n",
       "  <tbody>\n",
       "    <tr>\n",
       "      <th>0</th>\n",
       "      <td>28227132014-06-06</td>\n",
       "      <td>65.916496</td>\n",
       "      <td>2015-05-11 14:55:00</td>\n",
       "    </tr>\n",
       "    <tr>\n",
       "      <th>1</th>\n",
       "      <td>29802812014-06-07</td>\n",
       "      <td>74.472279</td>\n",
       "      <td>NaT</td>\n",
       "    </tr>\n",
       "    <tr>\n",
       "      <th>2</th>\n",
       "      <td>28227132014-06-08</td>\n",
       "      <td>65.916496</td>\n",
       "      <td>2015-05-11 14:55:00</td>\n",
       "    </tr>\n",
       "    <tr>\n",
       "      <th>3</th>\n",
       "      <td>34376152014-09-07</td>\n",
       "      <td>70.228611</td>\n",
       "      <td>2014-09-24 10:55:00</td>\n",
       "    </tr>\n",
       "    <tr>\n",
       "      <th>4</th>\n",
       "      <td>34461412014-09-08</td>\n",
       "      <td>58.833676</td>\n",
       "      <td>NaT</td>\n",
       "    </tr>\n",
       "  </tbody>\n",
       "</table>\n",
       "</div>"
      ],
      "text/plain": [
       "            id_ndaj1        age            dt_deces\n",
       "0  28227132014-06-06  65.916496 2015-05-11 14:55:00\n",
       "1  29802812014-06-07  74.472279                 NaT\n",
       "2  28227132014-06-08  65.916496 2015-05-11 14:55:00\n",
       "3  34376152014-09-07  70.228611 2014-09-24 10:55:00\n",
       "4  34461412014-09-08  58.833676                 NaT"
      ]
     },
     "execution_count": 18,
     "metadata": {},
     "output_type": "execute_result"
    }
   ],
   "source": [
    "print(df_pat.shape)\n",
    "df_pat.head()"
   ]
  },
  {
   "cell_type": "markdown",
   "metadata": {},
   "source": [
    " ## Join the 2 dataframes"
   ]
  },
  {
   "cell_type": "code",
   "execution_count": 19,
   "metadata": {
    "collapsed": false
   },
   "outputs": [
    {
     "data": {
      "text/plain": [
       "(2838, 9)"
      ]
     },
     "execution_count": 19,
     "metadata": {},
     "output_type": "execute_result"
    }
   ],
   "source": [
    "result = pd.merge(df_pivot2,df_pat, how='inner', on=['id_ndaj1'])\n",
    "result.shape"
   ]
  },
  {
   "cell_type": "code",
   "execution_count": 20,
   "metadata": {
    "collapsed": false
   },
   "outputs": [
    {
     "data": {
      "text/plain": [
       "(2825, 9)"
      ]
     },
     "execution_count": 20,
     "metadata": {},
     "output_type": "execute_result"
    }
   ],
   "source": [
    "result2 = result[result['age']>=18]\n",
    "result2.shape"
   ]
  },
  {
   "cell_type": "code",
   "execution_count": 21,
   "metadata": {
    "collapsed": false
   },
   "outputs": [
    {
     "data": {
      "text/plain": [
       "(638, 9)"
      ]
     },
     "execution_count": 21,
     "metadata": {},
     "output_type": "execute_result"
    }
   ],
   "source": [
    "result2[result2['dt_deces'].notnull()].shape"
   ]
  },
  {
   "cell_type": "markdown",
   "metadata": {},
   "source": [
    "## Mortality rate :"
   ]
  },
  {
   "cell_type": "code",
   "execution_count": 22,
   "metadata": {
    "collapsed": false
   },
   "outputs": [
    {
     "data": {
      "text/plain": [
       "22.584070796460175"
      ]
     },
     "execution_count": 22,
     "metadata": {},
     "output_type": "execute_result"
    }
   ],
   "source": [
    "# mortality rate\n",
    "float(result2[result2['dt_deces'].notnull()].shape[0]) / float(result2.shape[0]) * 100."
   ]
  },
  {
   "cell_type": "code",
   "execution_count": 23,
   "metadata": {
    "collapsed": false
   },
   "outputs": [
    {
     "data": {
      "text/plain": [
       "(0, 9)"
      ]
     },
     "execution_count": 23,
     "metadata": {},
     "output_type": "execute_result"
    }
   ],
   "source": [
    "result[(result['age']<18)&(result['dt_deces'].notnull())].shape"
   ]
  },
  {
   "cell_type": "code",
   "execution_count": 24,
   "metadata": {
    "collapsed": false
   },
   "outputs": [
    {
     "data": {
      "text/plain": [
       "(2838,)"
      ]
     },
     "execution_count": 24,
     "metadata": {},
     "output_type": "execute_result"
    }
   ],
   "source": [
    "result['id_ndaj1'].unique().shape"
   ]
  },
  {
   "cell_type": "markdown",
   "metadata": {},
   "source": [
    "# ===============================================================     We have kept all ICUs stays with more than 10 measures for each variable of interest and related with patients more than 18 : 2838 cases kept                            =============================================================="
   ]
  },
  {
   "cell_type": "markdown",
   "metadata": {},
   "source": [
    "# Lets have a look on ICUs stays durations"
   ]
  },
  {
   "cell_type": "markdown",
   "metadata": {},
   "source": [
    "# Lookup for cases where window is less than 6h"
   ]
  },
  {
   "cell_type": "code",
   "execution_count": 25,
   "metadata": {
    "collapsed": false
   },
   "outputs": [
    {
     "data": {
      "text/html": [
       "<div>\n",
       "<table border=\"1\" class=\"dataframe\">\n",
       "  <thead>\n",
       "    <tr style=\"text-align: right;\">\n",
       "      <th>id_measure_type</th>\n",
       "      <th>11</th>\n",
       "      <th>12</th>\n",
       "      <th>14</th>\n",
       "      <th>15</th>\n",
       "      <th>10102</th>\n",
       "      <th>10120</th>\n",
       "    </tr>\n",
       "    <tr>\n",
       "      <th>id_ndaj1</th>\n",
       "      <th></th>\n",
       "      <th></th>\n",
       "      <th></th>\n",
       "      <th></th>\n",
       "      <th></th>\n",
       "      <th></th>\n",
       "    </tr>\n",
       "  </thead>\n",
       "  <tbody>\n",
       "    <tr>\n",
       "      <th>27445892014-05-08</th>\n",
       "      <td>2014-05-08 01:17:53</td>\n",
       "      <td>2014-05-08 01:17:53</td>\n",
       "      <td>2014-05-08 00:44:00</td>\n",
       "      <td>2014-05-08 00:44:00</td>\n",
       "      <td>2014-05-08 00:44:00</td>\n",
       "      <td>2014-05-08 00:43:00</td>\n",
       "    </tr>\n",
       "    <tr>\n",
       "      <th>27445892014-06-24</th>\n",
       "      <td>2014-06-24 20:54:32</td>\n",
       "      <td>2014-06-24 20:54:32</td>\n",
       "      <td>2014-06-24 19:13:09</td>\n",
       "      <td>2014-06-24 19:13:09</td>\n",
       "      <td>2014-06-24 19:06:41</td>\n",
       "      <td>2014-06-24 19:01:31</td>\n",
       "    </tr>\n",
       "    <tr>\n",
       "      <th>27542662014-05-05</th>\n",
       "      <td>NaT</td>\n",
       "      <td>NaT</td>\n",
       "      <td>2014-05-05 16:44:01</td>\n",
       "      <td>2014-05-05 16:44:01</td>\n",
       "      <td>2014-05-05 16:44:01</td>\n",
       "      <td>2014-05-05 16:44:01</td>\n",
       "    </tr>\n",
       "    <tr>\n",
       "      <th>27556882014-04-30</th>\n",
       "      <td>NaT</td>\n",
       "      <td>NaT</td>\n",
       "      <td>NaT</td>\n",
       "      <td>NaT</td>\n",
       "      <td>2014-04-30 18:33:40</td>\n",
       "      <td>2014-04-30 18:33:40</td>\n",
       "    </tr>\n",
       "    <tr>\n",
       "      <th>27584082014-05-12</th>\n",
       "      <td>NaT</td>\n",
       "      <td>NaT</td>\n",
       "      <td>2014-05-12 18:00:00</td>\n",
       "      <td>2014-05-12 17:59:00</td>\n",
       "      <td>2014-05-12 17:59:00</td>\n",
       "      <td>2014-05-12 18:54:21</td>\n",
       "    </tr>\n",
       "  </tbody>\n",
       "</table>\n",
       "</div>"
      ],
      "text/plain": [
       "id_measure_type                 11                  12                  14     \\\n",
       "id_ndaj1                                                                        \n",
       "27445892014-05-08 2014-05-08 01:17:53 2014-05-08 01:17:53 2014-05-08 00:44:00   \n",
       "27445892014-06-24 2014-06-24 20:54:32 2014-06-24 20:54:32 2014-06-24 19:13:09   \n",
       "27542662014-05-05                 NaT                 NaT 2014-05-05 16:44:01   \n",
       "27556882014-04-30                 NaT                 NaT                 NaT   \n",
       "27584082014-05-12                 NaT                 NaT 2014-05-12 18:00:00   \n",
       "\n",
       "id_measure_type                 15                  10102               10120  \n",
       "id_ndaj1                                                                       \n",
       "27445892014-05-08 2014-05-08 00:44:00 2014-05-08 00:44:00 2014-05-08 00:43:00  \n",
       "27445892014-06-24 2014-06-24 19:13:09 2014-06-24 19:06:41 2014-06-24 19:01:31  \n",
       "27542662014-05-05 2014-05-05 16:44:01 2014-05-05 16:44:01 2014-05-05 16:44:01  \n",
       "27556882014-04-30                 NaT 2014-04-30 18:33:40 2014-04-30 18:33:40  \n",
       "27584082014-05-12 2014-05-12 17:59:00 2014-05-12 17:59:00 2014-05-12 18:54:21  "
      ]
     },
     "execution_count": 25,
     "metadata": {},
     "output_type": "execute_result"
    }
   ],
   "source": [
    "#\n",
    "# Recherche des cas pour lesquels l'intervalle des mesures disponibles est > 6h\n",
    "#\n",
    "q6 = \"select CONCAT(cast(id_nda as VARCHAR),cast(TO_DATE(dt_deb) as VARCHAR)) as id_ndaj1, \\\n",
    "id_measure_type, min(dt_insert) as min_dt \\\n",
    "from icu_sensor_24 \\\n",
    "where id_measure_type in(11,12,14,15,10102,10120) \\\n",
    "and dt_cancel = '' \\\n",
    "group by CONCAT(cast(id_nda as VARCHAR),cast(TO_DATE(dt_deb) as VARCHAR)), id_measure_type \\\n",
    "order by CONCAT(cast(id_nda as VARCHAR),cast(TO_DATE(dt_deb) as VARCHAR)), id_measure_type\"\n",
    "\n",
    "# selection et pivot\n",
    "df_dt_min = df_from_query(conn, q6)\n",
    "df_dt_min = df_dt_min.pivot(index='id_ndaj1',columns='id_measure_type',values='min_dt')\n",
    "df_dt_min.head()"
   ]
  },
  {
   "cell_type": "code",
   "execution_count": 26,
   "metadata": {
    "collapsed": false
   },
   "outputs": [
    {
     "data": {
      "text/html": [
       "<div>\n",
       "<table border=\"1\" class=\"dataframe\">\n",
       "  <thead>\n",
       "    <tr style=\"text-align: right;\">\n",
       "      <th>id_measure_type</th>\n",
       "      <th>11</th>\n",
       "      <th>12</th>\n",
       "      <th>14</th>\n",
       "      <th>15</th>\n",
       "      <th>10102</th>\n",
       "      <th>10120</th>\n",
       "    </tr>\n",
       "    <tr>\n",
       "      <th>id_ndaj1</th>\n",
       "      <th></th>\n",
       "      <th></th>\n",
       "      <th></th>\n",
       "      <th></th>\n",
       "      <th></th>\n",
       "      <th></th>\n",
       "    </tr>\n",
       "  </thead>\n",
       "  <tbody>\n",
       "    <tr>\n",
       "      <th>27445892014-05-08</th>\n",
       "      <td>2014-05-08 15:32:35</td>\n",
       "      <td>2014-05-08 15:32:35</td>\n",
       "      <td>2014-05-09 00:21:01</td>\n",
       "      <td>2014-05-09 00:21:01</td>\n",
       "      <td>2014-05-09 00:21:01</td>\n",
       "      <td>2014-05-09 00:21:41</td>\n",
       "    </tr>\n",
       "    <tr>\n",
       "      <th>27445892014-06-24</th>\n",
       "      <td>2014-06-25 00:47:43</td>\n",
       "      <td>2014-06-25 00:47:43</td>\n",
       "      <td>2014-06-25 18:46:10</td>\n",
       "      <td>2014-06-25 18:46:10</td>\n",
       "      <td>2014-06-25 18:46:10</td>\n",
       "      <td>2014-06-25 18:46:02</td>\n",
       "    </tr>\n",
       "    <tr>\n",
       "      <th>27542662014-05-05</th>\n",
       "      <td>NaT</td>\n",
       "      <td>NaT</td>\n",
       "      <td>2014-05-06 16:28:09</td>\n",
       "      <td>2014-05-06 16:28:09</td>\n",
       "      <td>2014-05-06 16:28:09</td>\n",
       "      <td>2014-05-06 16:28:09</td>\n",
       "    </tr>\n",
       "    <tr>\n",
       "      <th>27556882014-04-30</th>\n",
       "      <td>NaT</td>\n",
       "      <td>NaT</td>\n",
       "      <td>NaT</td>\n",
       "      <td>NaT</td>\n",
       "      <td>2014-04-30 18:34:11</td>\n",
       "      <td>2014-04-30 18:34:11</td>\n",
       "    </tr>\n",
       "    <tr>\n",
       "      <th>27584082014-05-12</th>\n",
       "      <td>NaT</td>\n",
       "      <td>NaT</td>\n",
       "      <td>2014-05-13 17:38:01</td>\n",
       "      <td>2014-05-13 17:38:01</td>\n",
       "      <td>2014-05-13 17:38:01</td>\n",
       "      <td>2014-05-13 17:40:11</td>\n",
       "    </tr>\n",
       "  </tbody>\n",
       "</table>\n",
       "</div>"
      ],
      "text/plain": [
       "id_measure_type                 11                  12                  14     \\\n",
       "id_ndaj1                                                                        \n",
       "27445892014-05-08 2014-05-08 15:32:35 2014-05-08 15:32:35 2014-05-09 00:21:01   \n",
       "27445892014-06-24 2014-06-25 00:47:43 2014-06-25 00:47:43 2014-06-25 18:46:10   \n",
       "27542662014-05-05                 NaT                 NaT 2014-05-06 16:28:09   \n",
       "27556882014-04-30                 NaT                 NaT                 NaT   \n",
       "27584082014-05-12                 NaT                 NaT 2014-05-13 17:38:01   \n",
       "\n",
       "id_measure_type                 15                  10102               10120  \n",
       "id_ndaj1                                                                       \n",
       "27445892014-05-08 2014-05-09 00:21:01 2014-05-09 00:21:01 2014-05-09 00:21:41  \n",
       "27445892014-06-24 2014-06-25 18:46:10 2014-06-25 18:46:10 2014-06-25 18:46:02  \n",
       "27542662014-05-05 2014-05-06 16:28:09 2014-05-06 16:28:09 2014-05-06 16:28:09  \n",
       "27556882014-04-30                 NaT 2014-04-30 18:34:11 2014-04-30 18:34:11  \n",
       "27584082014-05-12 2014-05-13 17:38:01 2014-05-13 17:38:01 2014-05-13 17:40:11  "
      ]
     },
     "execution_count": 26,
     "metadata": {},
     "output_type": "execute_result"
    }
   ],
   "source": [
    "#\n",
    "# Recherche des cas pour lesquels l'intervalle des mesures disponibles est > 6h\n",
    "#\n",
    "q7 = \"select CONCAT(cast(id_nda as VARCHAR),cast(TO_DATE(dt_deb) as VARCHAR)) as id_ndaj1, \\\n",
    "id_measure_type, max(dt_insert) as max_dt \\\n",
    "from icu_sensor_24 \\\n",
    "where id_measure_type in(11,12,14,15,10102,10120) \\\n",
    "and dt_cancel = '' \\\n",
    "group by CONCAT(cast(id_nda as VARCHAR),cast(TO_DATE(dt_deb) as VARCHAR)), id_measure_type \\\n",
    "order by CONCAT(cast(id_nda as VARCHAR),cast(TO_DATE(dt_deb) as VARCHAR)), id_measure_type\"\n",
    "\n",
    "# selection et pivot\n",
    "df_dt_max = df_from_query(conn, q7)\n",
    "df_dt_max = df_dt_max.pivot(index='id_ndaj1',columns='id_measure_type',values='max_dt')\n",
    "df_dt_max.head()"
   ]
  },
  {
   "cell_type": "code",
   "execution_count": 27,
   "metadata": {
    "collapsed": false
   },
   "outputs": [
    {
     "data": {
      "text/html": [
       "<div>\n",
       "<table border=\"1\" class=\"dataframe\">\n",
       "  <thead>\n",
       "    <tr style=\"text-align: right;\">\n",
       "      <th>id_measure_type</th>\n",
       "      <th>11</th>\n",
       "      <th>12</th>\n",
       "      <th>14</th>\n",
       "      <th>15</th>\n",
       "      <th>10102</th>\n",
       "      <th>10120</th>\n",
       "    </tr>\n",
       "    <tr>\n",
       "      <th>id_ndaj1</th>\n",
       "      <th></th>\n",
       "      <th></th>\n",
       "      <th></th>\n",
       "      <th></th>\n",
       "      <th></th>\n",
       "      <th></th>\n",
       "    </tr>\n",
       "  </thead>\n",
       "  <tbody>\n",
       "    <tr>\n",
       "      <th>27445892014-05-08</th>\n",
       "      <td>14:14:42</td>\n",
       "      <td>14:14:42</td>\n",
       "      <td>23:37:01</td>\n",
       "      <td>23:37:01</td>\n",
       "      <td>23:37:01</td>\n",
       "      <td>23:38:41</td>\n",
       "    </tr>\n",
       "    <tr>\n",
       "      <th>27445892014-06-24</th>\n",
       "      <td>03:53:11</td>\n",
       "      <td>03:53:11</td>\n",
       "      <td>23:33:01</td>\n",
       "      <td>23:33:01</td>\n",
       "      <td>23:39:29</td>\n",
       "      <td>23:44:31</td>\n",
       "    </tr>\n",
       "    <tr>\n",
       "      <th>27542662014-05-05</th>\n",
       "      <td>NaT</td>\n",
       "      <td>NaT</td>\n",
       "      <td>23:44:08</td>\n",
       "      <td>23:44:08</td>\n",
       "      <td>23:44:08</td>\n",
       "      <td>23:44:08</td>\n",
       "    </tr>\n",
       "    <tr>\n",
       "      <th>27556882014-04-30</th>\n",
       "      <td>NaT</td>\n",
       "      <td>NaT</td>\n",
       "      <td>NaT</td>\n",
       "      <td>NaT</td>\n",
       "      <td>00:00:31</td>\n",
       "      <td>00:00:31</td>\n",
       "    </tr>\n",
       "    <tr>\n",
       "      <th>27584082014-05-12</th>\n",
       "      <td>NaT</td>\n",
       "      <td>NaT</td>\n",
       "      <td>23:38:01</td>\n",
       "      <td>23:39:01</td>\n",
       "      <td>23:39:01</td>\n",
       "      <td>22:45:50</td>\n",
       "    </tr>\n",
       "    <tr>\n",
       "      <th>27606232014-05-01</th>\n",
       "      <td>NaT</td>\n",
       "      <td>NaT</td>\n",
       "      <td>14:44:09</td>\n",
       "      <td>14:44:09</td>\n",
       "      <td>14:44:09</td>\n",
       "      <td>14:43:10</td>\n",
       "    </tr>\n",
       "    <tr>\n",
       "      <th>27613822014-05-01</th>\n",
       "      <td>02:31:02</td>\n",
       "      <td>NaT</td>\n",
       "      <td>03:44:00</td>\n",
       "      <td>03:44:00</td>\n",
       "      <td>03:58:49</td>\n",
       "      <td>03:58:49</td>\n",
       "    </tr>\n",
       "    <tr>\n",
       "      <th>27632822014-05-02</th>\n",
       "      <td>20:32:02</td>\n",
       "      <td>NaT</td>\n",
       "      <td>NaT</td>\n",
       "      <td>NaT</td>\n",
       "      <td>20:44:10</td>\n",
       "      <td>20:43:40</td>\n",
       "    </tr>\n",
       "    <tr>\n",
       "      <th>27642382014-05-06</th>\n",
       "      <td>NaT</td>\n",
       "      <td>NaT</td>\n",
       "      <td>23:23:08</td>\n",
       "      <td>23:23:08</td>\n",
       "      <td>23:23:08</td>\n",
       "      <td>23:14:01</td>\n",
       "    </tr>\n",
       "    <tr>\n",
       "      <th>27662792014-05-04</th>\n",
       "      <td>00:55:58</td>\n",
       "      <td>00:45:13</td>\n",
       "      <td>03:22:00</td>\n",
       "      <td>03:23:00</td>\n",
       "      <td>05:26:08</td>\n",
       "      <td>00:52:48</td>\n",
       "    </tr>\n",
       "    <tr>\n",
       "      <th>27668302014-05-23</th>\n",
       "      <td>20:30:11</td>\n",
       "      <td>20:30:11</td>\n",
       "      <td>NaT</td>\n",
       "      <td>NaT</td>\n",
       "      <td>20:29:50</td>\n",
       "      <td>20:29:40</td>\n",
       "    </tr>\n",
       "    <tr>\n",
       "      <th>27669082014-05-04</th>\n",
       "      <td>04:59:58</td>\n",
       "      <td>03:59:58</td>\n",
       "      <td>03:48:00</td>\n",
       "      <td>03:47:00</td>\n",
       "      <td>07:18:10</td>\n",
       "      <td>05:40:09</td>\n",
       "    </tr>\n",
       "    <tr>\n",
       "      <th>27672272014-05-19</th>\n",
       "      <td>00:00:00</td>\n",
       "      <td>00:00:00</td>\n",
       "      <td>17:55:09</td>\n",
       "      <td>09:55:09</td>\n",
       "      <td>17:55:09</td>\n",
       "      <td>04:14:09</td>\n",
       "    </tr>\n",
       "    <tr>\n",
       "      <th>27684422014-05-05</th>\n",
       "      <td>NaT</td>\n",
       "      <td>NaT</td>\n",
       "      <td>02:59:29</td>\n",
       "      <td>02:59:29</td>\n",
       "      <td>02:59:29</td>\n",
       "      <td>02:59:29</td>\n",
       "    </tr>\n",
       "    <tr>\n",
       "      <th>27717732014-05-11</th>\n",
       "      <td>NaT</td>\n",
       "      <td>NaT</td>\n",
       "      <td>16:44:00</td>\n",
       "      <td>16:44:00</td>\n",
       "      <td>16:44:00</td>\n",
       "      <td>16:43:30</td>\n",
       "    </tr>\n",
       "    <tr>\n",
       "      <th>27736182014-05-06</th>\n",
       "      <td>01:19:53</td>\n",
       "      <td>01:19:53</td>\n",
       "      <td>22:04:10</td>\n",
       "      <td>22:04:10</td>\n",
       "      <td>23:40:19</td>\n",
       "      <td>23:40:20</td>\n",
       "    </tr>\n",
       "    <tr>\n",
       "      <th>27789292014-07-14</th>\n",
       "      <td>22:59:48</td>\n",
       "      <td>22:59:48</td>\n",
       "      <td>NaT</td>\n",
       "      <td>NaT</td>\n",
       "      <td>22:59:40</td>\n",
       "      <td>22:59:40</td>\n",
       "    </tr>\n",
       "    <tr>\n",
       "      <th>27900752014-05-11</th>\n",
       "      <td>02:59:58</td>\n",
       "      <td>02:59:58</td>\n",
       "      <td>NaT</td>\n",
       "      <td>NaT</td>\n",
       "      <td>04:17:00</td>\n",
       "      <td>04:17:20</td>\n",
       "    </tr>\n",
       "    <tr>\n",
       "      <th>27906582014-05-11</th>\n",
       "      <td>13:30:06</td>\n",
       "      <td>13:30:06</td>\n",
       "      <td>00:00:00</td>\n",
       "      <td>00:00:00</td>\n",
       "      <td>15:21:51</td>\n",
       "      <td>15:21:30</td>\n",
       "    </tr>\n",
       "    <tr>\n",
       "      <th>27913062014-05-11</th>\n",
       "      <td>NaT</td>\n",
       "      <td>NaT</td>\n",
       "      <td>22:53:00</td>\n",
       "      <td>22:53:00</td>\n",
       "      <td>22:57:51</td>\n",
       "      <td>22:57:51</td>\n",
       "    </tr>\n",
       "  </tbody>\n",
       "</table>\n",
       "</div>"
      ],
      "text/plain": [
       "id_measure_type      11       12       14       15       10102    10120\n",
       "id_ndaj1                                                               \n",
       "27445892014-05-08 14:14:42 14:14:42 23:37:01 23:37:01 23:37:01 23:38:41\n",
       "27445892014-06-24 03:53:11 03:53:11 23:33:01 23:33:01 23:39:29 23:44:31\n",
       "27542662014-05-05      NaT      NaT 23:44:08 23:44:08 23:44:08 23:44:08\n",
       "27556882014-04-30      NaT      NaT      NaT      NaT 00:00:31 00:00:31\n",
       "27584082014-05-12      NaT      NaT 23:38:01 23:39:01 23:39:01 22:45:50\n",
       "27606232014-05-01      NaT      NaT 14:44:09 14:44:09 14:44:09 14:43:10\n",
       "27613822014-05-01 02:31:02      NaT 03:44:00 03:44:00 03:58:49 03:58:49\n",
       "27632822014-05-02 20:32:02      NaT      NaT      NaT 20:44:10 20:43:40\n",
       "27642382014-05-06      NaT      NaT 23:23:08 23:23:08 23:23:08 23:14:01\n",
       "27662792014-05-04 00:55:58 00:45:13 03:22:00 03:23:00 05:26:08 00:52:48\n",
       "27668302014-05-23 20:30:11 20:30:11      NaT      NaT 20:29:50 20:29:40\n",
       "27669082014-05-04 04:59:58 03:59:58 03:48:00 03:47:00 07:18:10 05:40:09\n",
       "27672272014-05-19 00:00:00 00:00:00 17:55:09 09:55:09 17:55:09 04:14:09\n",
       "27684422014-05-05      NaT      NaT 02:59:29 02:59:29 02:59:29 02:59:29\n",
       "27717732014-05-11      NaT      NaT 16:44:00 16:44:00 16:44:00 16:43:30\n",
       "27736182014-05-06 01:19:53 01:19:53 22:04:10 22:04:10 23:40:19 23:40:20\n",
       "27789292014-07-14 22:59:48 22:59:48      NaT      NaT 22:59:40 22:59:40\n",
       "27900752014-05-11 02:59:58 02:59:58      NaT      NaT 04:17:00 04:17:20\n",
       "27906582014-05-11 13:30:06 13:30:06 00:00:00 00:00:00 15:21:51 15:21:30\n",
       "27913062014-05-11      NaT      NaT 22:53:00 22:53:00 22:57:51 22:57:51"
      ]
     },
     "execution_count": 27,
     "metadata": {},
     "output_type": "execute_result"
    }
   ],
   "source": [
    "df_diff_dt = df_dt_max - df_dt_min\n",
    "df_diff_dt.head(20)"
   ]
  },
  {
   "cell_type": "code",
   "execution_count": 28,
   "metadata": {
    "collapsed": false
   },
   "outputs": [
    {
     "data": {
      "text/plain": [
       "(2932, 6)"
      ]
     },
     "execution_count": 28,
     "metadata": {},
     "output_type": "execute_result"
    }
   ],
   "source": [
    "delta_min = timedelta(hours=6)\n",
    "result3 = df_diff_dt[(\n",
    "                ((df_diff_dt[11]>=delta_min)|(df_diff_dt[14]>=delta_min)) &\n",
    "                ((df_diff_dt[12]>=delta_min)|(df_diff_dt[15]>=delta_min)) &\n",
    "                (df_diff_dt[10102]>=delta_min) &\n",
    "                (df_diff_dt[10120]>=delta_min)\n",
    "            )]\n",
    "result3.shape"
   ]
  },
  {
   "cell_type": "code",
   "execution_count": 29,
   "metadata": {
    "collapsed": false
   },
   "outputs": [
    {
     "data": {
      "text/html": [
       "<div>\n",
       "<table border=\"1\" class=\"dataframe\">\n",
       "  <thead>\n",
       "    <tr style=\"text-align: right;\">\n",
       "      <th>id_measure_type</th>\n",
       "      <th>11</th>\n",
       "      <th>12</th>\n",
       "      <th>14</th>\n",
       "      <th>15</th>\n",
       "      <th>10102</th>\n",
       "      <th>10120</th>\n",
       "    </tr>\n",
       "    <tr>\n",
       "      <th>id_ndaj1</th>\n",
       "      <th></th>\n",
       "      <th></th>\n",
       "      <th></th>\n",
       "      <th></th>\n",
       "      <th></th>\n",
       "      <th></th>\n",
       "    </tr>\n",
       "  </thead>\n",
       "  <tbody>\n",
       "    <tr>\n",
       "      <th>27445892014-05-08</th>\n",
       "      <td>14:14:42</td>\n",
       "      <td>14:14:42</td>\n",
       "      <td>23:37:01</td>\n",
       "      <td>23:37:01</td>\n",
       "      <td>23:37:01</td>\n",
       "      <td>23:38:41</td>\n",
       "    </tr>\n",
       "    <tr>\n",
       "      <th>27445892014-06-24</th>\n",
       "      <td>03:53:11</td>\n",
       "      <td>03:53:11</td>\n",
       "      <td>23:33:01</td>\n",
       "      <td>23:33:01</td>\n",
       "      <td>23:39:29</td>\n",
       "      <td>23:44:31</td>\n",
       "    </tr>\n",
       "    <tr>\n",
       "      <th>27542662014-05-05</th>\n",
       "      <td>NaT</td>\n",
       "      <td>NaT</td>\n",
       "      <td>23:44:08</td>\n",
       "      <td>23:44:08</td>\n",
       "      <td>23:44:08</td>\n",
       "      <td>23:44:08</td>\n",
       "    </tr>\n",
       "    <tr>\n",
       "      <th>27584082014-05-12</th>\n",
       "      <td>NaT</td>\n",
       "      <td>NaT</td>\n",
       "      <td>23:38:01</td>\n",
       "      <td>23:39:01</td>\n",
       "      <td>23:39:01</td>\n",
       "      <td>22:45:50</td>\n",
       "    </tr>\n",
       "    <tr>\n",
       "      <th>27606232014-05-01</th>\n",
       "      <td>NaT</td>\n",
       "      <td>NaT</td>\n",
       "      <td>14:44:09</td>\n",
       "      <td>14:44:09</td>\n",
       "      <td>14:44:09</td>\n",
       "      <td>14:43:10</td>\n",
       "    </tr>\n",
       "    <tr>\n",
       "      <th>27642382014-05-06</th>\n",
       "      <td>NaT</td>\n",
       "      <td>NaT</td>\n",
       "      <td>23:23:08</td>\n",
       "      <td>23:23:08</td>\n",
       "      <td>23:23:08</td>\n",
       "      <td>23:14:01</td>\n",
       "    </tr>\n",
       "    <tr>\n",
       "      <th>27668302014-05-23</th>\n",
       "      <td>20:30:11</td>\n",
       "      <td>20:30:11</td>\n",
       "      <td>NaT</td>\n",
       "      <td>NaT</td>\n",
       "      <td>20:29:50</td>\n",
       "      <td>20:29:40</td>\n",
       "    </tr>\n",
       "    <tr>\n",
       "      <th>27717732014-05-11</th>\n",
       "      <td>NaT</td>\n",
       "      <td>NaT</td>\n",
       "      <td>16:44:00</td>\n",
       "      <td>16:44:00</td>\n",
       "      <td>16:44:00</td>\n",
       "      <td>16:43:30</td>\n",
       "    </tr>\n",
       "    <tr>\n",
       "      <th>27736182014-05-06</th>\n",
       "      <td>01:19:53</td>\n",
       "      <td>01:19:53</td>\n",
       "      <td>22:04:10</td>\n",
       "      <td>22:04:10</td>\n",
       "      <td>23:40:19</td>\n",
       "      <td>23:40:20</td>\n",
       "    </tr>\n",
       "    <tr>\n",
       "      <th>27789292014-07-14</th>\n",
       "      <td>22:59:48</td>\n",
       "      <td>22:59:48</td>\n",
       "      <td>NaT</td>\n",
       "      <td>NaT</td>\n",
       "      <td>22:59:40</td>\n",
       "      <td>22:59:40</td>\n",
       "    </tr>\n",
       "    <tr>\n",
       "      <th>27906582014-05-11</th>\n",
       "      <td>13:30:06</td>\n",
       "      <td>13:30:06</td>\n",
       "      <td>00:00:00</td>\n",
       "      <td>00:00:00</td>\n",
       "      <td>15:21:51</td>\n",
       "      <td>15:21:30</td>\n",
       "    </tr>\n",
       "    <tr>\n",
       "      <th>27913062014-05-11</th>\n",
       "      <td>NaT</td>\n",
       "      <td>NaT</td>\n",
       "      <td>22:53:00</td>\n",
       "      <td>22:53:00</td>\n",
       "      <td>22:57:51</td>\n",
       "      <td>22:57:51</td>\n",
       "    </tr>\n",
       "    <tr>\n",
       "      <th>28139842014-05-15</th>\n",
       "      <td>NaT</td>\n",
       "      <td>NaT</td>\n",
       "      <td>20:03:10</td>\n",
       "      <td>20:03:10</td>\n",
       "      <td>20:03:10</td>\n",
       "      <td>20:03:10</td>\n",
       "    </tr>\n",
       "    <tr>\n",
       "      <th>28153742014-05-21</th>\n",
       "      <td>00:19:51</td>\n",
       "      <td>00:19:51</td>\n",
       "      <td>23:04:31</td>\n",
       "      <td>23:04:31</td>\n",
       "      <td>23:46:41</td>\n",
       "      <td>09:45:30</td>\n",
       "    </tr>\n",
       "    <tr>\n",
       "      <th>28173522014-05-16</th>\n",
       "      <td>NaT</td>\n",
       "      <td>NaT</td>\n",
       "      <td>23:29:29</td>\n",
       "      <td>23:29:29</td>\n",
       "      <td>23:29:29</td>\n",
       "      <td>23:29:29</td>\n",
       "    </tr>\n",
       "    <tr>\n",
       "      <th>28183652014-05-16</th>\n",
       "      <td>14:10:41</td>\n",
       "      <td>14:10:41</td>\n",
       "      <td>NaT</td>\n",
       "      <td>NaT</td>\n",
       "      <td>14:28:41</td>\n",
       "      <td>14:28:41</td>\n",
       "    </tr>\n",
       "    <tr>\n",
       "      <th>28210662014-05-20</th>\n",
       "      <td>NaT</td>\n",
       "      <td>NaT</td>\n",
       "      <td>07:40:10</td>\n",
       "      <td>07:40:10</td>\n",
       "      <td>07:40:10</td>\n",
       "      <td>07:40:31</td>\n",
       "    </tr>\n",
       "    <tr>\n",
       "      <th>28225332014-07-11</th>\n",
       "      <td>01:11:13</td>\n",
       "      <td>01:11:13</td>\n",
       "      <td>22:50:50</td>\n",
       "      <td>22:50:50</td>\n",
       "      <td>23:42:11</td>\n",
       "      <td>23:42:40</td>\n",
       "    </tr>\n",
       "    <tr>\n",
       "      <th>28227132014-06-08</th>\n",
       "      <td>23:10:54</td>\n",
       "      <td>23:10:54</td>\n",
       "      <td>NaT</td>\n",
       "      <td>NaT</td>\n",
       "      <td>23:44:11</td>\n",
       "      <td>23:44:11</td>\n",
       "    </tr>\n",
       "    <tr>\n",
       "      <th>28227242014-05-16</th>\n",
       "      <td>10:29:59</td>\n",
       "      <td>10:29:59</td>\n",
       "      <td>20:07:00</td>\n",
       "      <td>20:06:00</td>\n",
       "      <td>23:19:10</td>\n",
       "      <td>23:11:10</td>\n",
       "    </tr>\n",
       "  </tbody>\n",
       "</table>\n",
       "</div>"
      ],
      "text/plain": [
       "id_measure_type      11       12       14       15       10102    10120\n",
       "id_ndaj1                                                               \n",
       "27445892014-05-08 14:14:42 14:14:42 23:37:01 23:37:01 23:37:01 23:38:41\n",
       "27445892014-06-24 03:53:11 03:53:11 23:33:01 23:33:01 23:39:29 23:44:31\n",
       "27542662014-05-05      NaT      NaT 23:44:08 23:44:08 23:44:08 23:44:08\n",
       "27584082014-05-12      NaT      NaT 23:38:01 23:39:01 23:39:01 22:45:50\n",
       "27606232014-05-01      NaT      NaT 14:44:09 14:44:09 14:44:09 14:43:10\n",
       "27642382014-05-06      NaT      NaT 23:23:08 23:23:08 23:23:08 23:14:01\n",
       "27668302014-05-23 20:30:11 20:30:11      NaT      NaT 20:29:50 20:29:40\n",
       "27717732014-05-11      NaT      NaT 16:44:00 16:44:00 16:44:00 16:43:30\n",
       "27736182014-05-06 01:19:53 01:19:53 22:04:10 22:04:10 23:40:19 23:40:20\n",
       "27789292014-07-14 22:59:48 22:59:48      NaT      NaT 22:59:40 22:59:40\n",
       "27906582014-05-11 13:30:06 13:30:06 00:00:00 00:00:00 15:21:51 15:21:30\n",
       "27913062014-05-11      NaT      NaT 22:53:00 22:53:00 22:57:51 22:57:51\n",
       "28139842014-05-15      NaT      NaT 20:03:10 20:03:10 20:03:10 20:03:10\n",
       "28153742014-05-21 00:19:51 00:19:51 23:04:31 23:04:31 23:46:41 09:45:30\n",
       "28173522014-05-16      NaT      NaT 23:29:29 23:29:29 23:29:29 23:29:29\n",
       "28183652014-05-16 14:10:41 14:10:41      NaT      NaT 14:28:41 14:28:41\n",
       "28210662014-05-20      NaT      NaT 07:40:10 07:40:10 07:40:10 07:40:31\n",
       "28225332014-07-11 01:11:13 01:11:13 22:50:50 22:50:50 23:42:11 23:42:40\n",
       "28227132014-06-08 23:10:54 23:10:54      NaT      NaT 23:44:11 23:44:11\n",
       "28227242014-05-16 10:29:59 10:29:59 20:07:00 20:06:00 23:19:10 23:11:10"
      ]
     },
     "execution_count": 29,
     "metadata": {},
     "output_type": "execute_result"
    }
   ],
   "source": [
    "result3.head(20)"
   ]
  },
  {
   "cell_type": "code",
   "execution_count": 30,
   "metadata": {
    "collapsed": false
   },
   "outputs": [
    {
     "data": {
      "text/html": [
       "<div>\n",
       "<table border=\"1\" class=\"dataframe\">\n",
       "  <thead>\n",
       "    <tr style=\"text-align: right;\">\n",
       "      <th>id_measure_type</th>\n",
       "      <th>id_ndaj1</th>\n",
       "      <th>11</th>\n",
       "      <th>12</th>\n",
       "      <th>14</th>\n",
       "      <th>15</th>\n",
       "      <th>10102</th>\n",
       "      <th>10120</th>\n",
       "    </tr>\n",
       "  </thead>\n",
       "  <tbody>\n",
       "    <tr>\n",
       "      <th>0</th>\n",
       "      <td>27445892014-05-08</td>\n",
       "      <td>14:14:42</td>\n",
       "      <td>14:14:42</td>\n",
       "      <td>23:37:01</td>\n",
       "      <td>23:37:01</td>\n",
       "      <td>23:37:01</td>\n",
       "      <td>23:38:41</td>\n",
       "    </tr>\n",
       "    <tr>\n",
       "      <th>1</th>\n",
       "      <td>27445892014-06-24</td>\n",
       "      <td>03:53:11</td>\n",
       "      <td>03:53:11</td>\n",
       "      <td>23:33:01</td>\n",
       "      <td>23:33:01</td>\n",
       "      <td>23:39:29</td>\n",
       "      <td>23:44:31</td>\n",
       "    </tr>\n",
       "    <tr>\n",
       "      <th>2</th>\n",
       "      <td>27542662014-05-05</td>\n",
       "      <td>NaT</td>\n",
       "      <td>NaT</td>\n",
       "      <td>23:44:08</td>\n",
       "      <td>23:44:08</td>\n",
       "      <td>23:44:08</td>\n",
       "      <td>23:44:08</td>\n",
       "    </tr>\n",
       "    <tr>\n",
       "      <th>3</th>\n",
       "      <td>27584082014-05-12</td>\n",
       "      <td>NaT</td>\n",
       "      <td>NaT</td>\n",
       "      <td>23:38:01</td>\n",
       "      <td>23:39:01</td>\n",
       "      <td>23:39:01</td>\n",
       "      <td>22:45:50</td>\n",
       "    </tr>\n",
       "    <tr>\n",
       "      <th>4</th>\n",
       "      <td>27606232014-05-01</td>\n",
       "      <td>NaT</td>\n",
       "      <td>NaT</td>\n",
       "      <td>14:44:09</td>\n",
       "      <td>14:44:09</td>\n",
       "      <td>14:44:09</td>\n",
       "      <td>14:43:10</td>\n",
       "    </tr>\n",
       "    <tr>\n",
       "      <th>5</th>\n",
       "      <td>27642382014-05-06</td>\n",
       "      <td>NaT</td>\n",
       "      <td>NaT</td>\n",
       "      <td>23:23:08</td>\n",
       "      <td>23:23:08</td>\n",
       "      <td>23:23:08</td>\n",
       "      <td>23:14:01</td>\n",
       "    </tr>\n",
       "    <tr>\n",
       "      <th>6</th>\n",
       "      <td>27668302014-05-23</td>\n",
       "      <td>20:30:11</td>\n",
       "      <td>20:30:11</td>\n",
       "      <td>NaT</td>\n",
       "      <td>NaT</td>\n",
       "      <td>20:29:50</td>\n",
       "      <td>20:29:40</td>\n",
       "    </tr>\n",
       "    <tr>\n",
       "      <th>7</th>\n",
       "      <td>27717732014-05-11</td>\n",
       "      <td>NaT</td>\n",
       "      <td>NaT</td>\n",
       "      <td>16:44:00</td>\n",
       "      <td>16:44:00</td>\n",
       "      <td>16:44:00</td>\n",
       "      <td>16:43:30</td>\n",
       "    </tr>\n",
       "    <tr>\n",
       "      <th>8</th>\n",
       "      <td>27736182014-05-06</td>\n",
       "      <td>01:19:53</td>\n",
       "      <td>01:19:53</td>\n",
       "      <td>22:04:10</td>\n",
       "      <td>22:04:10</td>\n",
       "      <td>23:40:19</td>\n",
       "      <td>23:40:20</td>\n",
       "    </tr>\n",
       "    <tr>\n",
       "      <th>9</th>\n",
       "      <td>27789292014-07-14</td>\n",
       "      <td>22:59:48</td>\n",
       "      <td>22:59:48</td>\n",
       "      <td>NaT</td>\n",
       "      <td>NaT</td>\n",
       "      <td>22:59:40</td>\n",
       "      <td>22:59:40</td>\n",
       "    </tr>\n",
       "    <tr>\n",
       "      <th>10</th>\n",
       "      <td>27906582014-05-11</td>\n",
       "      <td>13:30:06</td>\n",
       "      <td>13:30:06</td>\n",
       "      <td>00:00:00</td>\n",
       "      <td>00:00:00</td>\n",
       "      <td>15:21:51</td>\n",
       "      <td>15:21:30</td>\n",
       "    </tr>\n",
       "    <tr>\n",
       "      <th>11</th>\n",
       "      <td>27913062014-05-11</td>\n",
       "      <td>NaT</td>\n",
       "      <td>NaT</td>\n",
       "      <td>22:53:00</td>\n",
       "      <td>22:53:00</td>\n",
       "      <td>22:57:51</td>\n",
       "      <td>22:57:51</td>\n",
       "    </tr>\n",
       "    <tr>\n",
       "      <th>12</th>\n",
       "      <td>28139842014-05-15</td>\n",
       "      <td>NaT</td>\n",
       "      <td>NaT</td>\n",
       "      <td>20:03:10</td>\n",
       "      <td>20:03:10</td>\n",
       "      <td>20:03:10</td>\n",
       "      <td>20:03:10</td>\n",
       "    </tr>\n",
       "    <tr>\n",
       "      <th>13</th>\n",
       "      <td>28153742014-05-21</td>\n",
       "      <td>00:19:51</td>\n",
       "      <td>00:19:51</td>\n",
       "      <td>23:04:31</td>\n",
       "      <td>23:04:31</td>\n",
       "      <td>23:46:41</td>\n",
       "      <td>09:45:30</td>\n",
       "    </tr>\n",
       "    <tr>\n",
       "      <th>14</th>\n",
       "      <td>28173522014-05-16</td>\n",
       "      <td>NaT</td>\n",
       "      <td>NaT</td>\n",
       "      <td>23:29:29</td>\n",
       "      <td>23:29:29</td>\n",
       "      <td>23:29:29</td>\n",
       "      <td>23:29:29</td>\n",
       "    </tr>\n",
       "    <tr>\n",
       "      <th>15</th>\n",
       "      <td>28183652014-05-16</td>\n",
       "      <td>14:10:41</td>\n",
       "      <td>14:10:41</td>\n",
       "      <td>NaT</td>\n",
       "      <td>NaT</td>\n",
       "      <td>14:28:41</td>\n",
       "      <td>14:28:41</td>\n",
       "    </tr>\n",
       "    <tr>\n",
       "      <th>16</th>\n",
       "      <td>28210662014-05-20</td>\n",
       "      <td>NaT</td>\n",
       "      <td>NaT</td>\n",
       "      <td>07:40:10</td>\n",
       "      <td>07:40:10</td>\n",
       "      <td>07:40:10</td>\n",
       "      <td>07:40:31</td>\n",
       "    </tr>\n",
       "    <tr>\n",
       "      <th>17</th>\n",
       "      <td>28225332014-07-11</td>\n",
       "      <td>01:11:13</td>\n",
       "      <td>01:11:13</td>\n",
       "      <td>22:50:50</td>\n",
       "      <td>22:50:50</td>\n",
       "      <td>23:42:11</td>\n",
       "      <td>23:42:40</td>\n",
       "    </tr>\n",
       "    <tr>\n",
       "      <th>18</th>\n",
       "      <td>28227132014-06-08</td>\n",
       "      <td>23:10:54</td>\n",
       "      <td>23:10:54</td>\n",
       "      <td>NaT</td>\n",
       "      <td>NaT</td>\n",
       "      <td>23:44:11</td>\n",
       "      <td>23:44:11</td>\n",
       "    </tr>\n",
       "    <tr>\n",
       "      <th>19</th>\n",
       "      <td>28227242014-05-16</td>\n",
       "      <td>10:29:59</td>\n",
       "      <td>10:29:59</td>\n",
       "      <td>20:07:00</td>\n",
       "      <td>20:06:00</td>\n",
       "      <td>23:19:10</td>\n",
       "      <td>23:11:10</td>\n",
       "    </tr>\n",
       "  </tbody>\n",
       "</table>\n",
       "</div>"
      ],
      "text/plain": [
       "id_measure_type           id_ndaj1       11       12       14       15  \\\n",
       "0                27445892014-05-08 14:14:42 14:14:42 23:37:01 23:37:01   \n",
       "1                27445892014-06-24 03:53:11 03:53:11 23:33:01 23:33:01   \n",
       "2                27542662014-05-05      NaT      NaT 23:44:08 23:44:08   \n",
       "3                27584082014-05-12      NaT      NaT 23:38:01 23:39:01   \n",
       "4                27606232014-05-01      NaT      NaT 14:44:09 14:44:09   \n",
       "5                27642382014-05-06      NaT      NaT 23:23:08 23:23:08   \n",
       "6                27668302014-05-23 20:30:11 20:30:11      NaT      NaT   \n",
       "7                27717732014-05-11      NaT      NaT 16:44:00 16:44:00   \n",
       "8                27736182014-05-06 01:19:53 01:19:53 22:04:10 22:04:10   \n",
       "9                27789292014-07-14 22:59:48 22:59:48      NaT      NaT   \n",
       "10               27906582014-05-11 13:30:06 13:30:06 00:00:00 00:00:00   \n",
       "11               27913062014-05-11      NaT      NaT 22:53:00 22:53:00   \n",
       "12               28139842014-05-15      NaT      NaT 20:03:10 20:03:10   \n",
       "13               28153742014-05-21 00:19:51 00:19:51 23:04:31 23:04:31   \n",
       "14               28173522014-05-16      NaT      NaT 23:29:29 23:29:29   \n",
       "15               28183652014-05-16 14:10:41 14:10:41      NaT      NaT   \n",
       "16               28210662014-05-20      NaT      NaT 07:40:10 07:40:10   \n",
       "17               28225332014-07-11 01:11:13 01:11:13 22:50:50 22:50:50   \n",
       "18               28227132014-06-08 23:10:54 23:10:54      NaT      NaT   \n",
       "19               28227242014-05-16 10:29:59 10:29:59 20:07:00 20:06:00   \n",
       "\n",
       "id_measure_type    10102    10120  \n",
       "0               23:37:01 23:38:41  \n",
       "1               23:39:29 23:44:31  \n",
       "2               23:44:08 23:44:08  \n",
       "3               23:39:01 22:45:50  \n",
       "4               14:44:09 14:43:10  \n",
       "5               23:23:08 23:14:01  \n",
       "6               20:29:50 20:29:40  \n",
       "7               16:44:00 16:43:30  \n",
       "8               23:40:19 23:40:20  \n",
       "9               22:59:40 22:59:40  \n",
       "10              15:21:51 15:21:30  \n",
       "11              22:57:51 22:57:51  \n",
       "12              20:03:10 20:03:10  \n",
       "13              23:46:41 09:45:30  \n",
       "14              23:29:29 23:29:29  \n",
       "15              14:28:41 14:28:41  \n",
       "16              07:40:10 07:40:31  \n",
       "17              23:42:11 23:42:40  \n",
       "18              23:44:11 23:44:11  \n",
       "19              23:19:10 23:11:10  "
      ]
     },
     "execution_count": 30,
     "metadata": {},
     "output_type": "execute_result"
    }
   ],
   "source": [
    "result3 = result3.reset_index()\n",
    "result3.head(20)"
   ]
  },
  {
   "cell_type": "code",
   "execution_count": 31,
   "metadata": {
    "collapsed": false
   },
   "outputs": [
    {
     "data": {
      "text/plain": [
       "(2701, 15)"
      ]
     },
     "execution_count": 31,
     "metadata": {},
     "output_type": "execute_result"
    }
   ],
   "source": [
    "result = pd.merge(result2,result3, how='inner', on=['id_ndaj1'])\n",
    "result.shape"
   ]
  },
  {
   "cell_type": "markdown",
   "metadata": {},
   "source": [
    "# ===============================================================     We have kept all ICUs stays with more than 10 measures for each variable of interest and related with patients more than 18 and for whose we have more than 6h of measures : 2701 cases kept                            =============================================================="
   ]
  },
  {
   "cell_type": "code",
   "execution_count": 32,
   "metadata": {
    "collapsed": false
   },
   "outputs": [
    {
     "data": {
      "text/html": [
       "<div>\n",
       "<table border=\"1\" class=\"dataframe\">\n",
       "  <thead>\n",
       "    <tr style=\"text-align: right;\">\n",
       "      <th>id_measure_type</th>\n",
       "      <th>11_x</th>\n",
       "      <th>12_x</th>\n",
       "      <th>14_x</th>\n",
       "      <th>15_x</th>\n",
       "      <th>10102_x</th>\n",
       "      <th>10120_x</th>\n",
       "      <th>id_ndaj1</th>\n",
       "      <th>age</th>\n",
       "      <th>dt_deces</th>\n",
       "      <th>11_y</th>\n",
       "      <th>12_y</th>\n",
       "      <th>14_y</th>\n",
       "      <th>15_y</th>\n",
       "      <th>10102_y</th>\n",
       "      <th>10120_y</th>\n",
       "    </tr>\n",
       "  </thead>\n",
       "  <tbody>\n",
       "    <tr>\n",
       "      <th>0</th>\n",
       "      <td>67.0</td>\n",
       "      <td>66.0</td>\n",
       "      <td>41.0</td>\n",
       "      <td>41.0</td>\n",
       "      <td>97.0</td>\n",
       "      <td>96.0</td>\n",
       "      <td>27445892014-05-08</td>\n",
       "      <td>62.171116</td>\n",
       "      <td>2014-08-04 05:33:00</td>\n",
       "      <td>14:14:42</td>\n",
       "      <td>14:14:42</td>\n",
       "      <td>23:37:01</td>\n",
       "      <td>23:37:01</td>\n",
       "      <td>23:37:01</td>\n",
       "      <td>23:38:41</td>\n",
       "    </tr>\n",
       "    <tr>\n",
       "      <th>1</th>\n",
       "      <td>25.0</td>\n",
       "      <td>25.0</td>\n",
       "      <td>96.0</td>\n",
       "      <td>96.0</td>\n",
       "      <td>96.0</td>\n",
       "      <td>96.0</td>\n",
       "      <td>27445892014-06-24</td>\n",
       "      <td>62.171116</td>\n",
       "      <td>2014-08-04 05:33:00</td>\n",
       "      <td>03:53:11</td>\n",
       "      <td>03:53:11</td>\n",
       "      <td>23:33:01</td>\n",
       "      <td>23:33:01</td>\n",
       "      <td>23:39:29</td>\n",
       "      <td>23:44:31</td>\n",
       "    </tr>\n",
       "    <tr>\n",
       "      <th>2</th>\n",
       "      <td>NaN</td>\n",
       "      <td>NaN</td>\n",
       "      <td>83.0</td>\n",
       "      <td>83.0</td>\n",
       "      <td>83.0</td>\n",
       "      <td>83.0</td>\n",
       "      <td>27542662014-05-05</td>\n",
       "      <td>55.961670</td>\n",
       "      <td>NaT</td>\n",
       "      <td>NaT</td>\n",
       "      <td>NaT</td>\n",
       "      <td>23:44:08</td>\n",
       "      <td>23:44:08</td>\n",
       "      <td>23:44:08</td>\n",
       "      <td>23:44:08</td>\n",
       "    </tr>\n",
       "    <tr>\n",
       "      <th>3</th>\n",
       "      <td>NaN</td>\n",
       "      <td>NaN</td>\n",
       "      <td>93.0</td>\n",
       "      <td>93.0</td>\n",
       "      <td>93.0</td>\n",
       "      <td>92.0</td>\n",
       "      <td>27584082014-05-12</td>\n",
       "      <td>82.800821</td>\n",
       "      <td>2015-11-17 14:40:00</td>\n",
       "      <td>NaT</td>\n",
       "      <td>NaT</td>\n",
       "      <td>23:38:01</td>\n",
       "      <td>23:39:01</td>\n",
       "      <td>23:39:01</td>\n",
       "      <td>22:45:50</td>\n",
       "    </tr>\n",
       "    <tr>\n",
       "      <th>4</th>\n",
       "      <td>NaN</td>\n",
       "      <td>NaN</td>\n",
       "      <td>60.0</td>\n",
       "      <td>60.0</td>\n",
       "      <td>60.0</td>\n",
       "      <td>60.0</td>\n",
       "      <td>27606232014-05-01</td>\n",
       "      <td>61.620808</td>\n",
       "      <td>NaT</td>\n",
       "      <td>NaT</td>\n",
       "      <td>NaT</td>\n",
       "      <td>14:44:09</td>\n",
       "      <td>14:44:09</td>\n",
       "      <td>14:44:09</td>\n",
       "      <td>14:43:10</td>\n",
       "    </tr>\n",
       "    <tr>\n",
       "      <th>5</th>\n",
       "      <td>NaN</td>\n",
       "      <td>NaN</td>\n",
       "      <td>48.0</td>\n",
       "      <td>48.0</td>\n",
       "      <td>47.0</td>\n",
       "      <td>46.0</td>\n",
       "      <td>27642382014-05-06</td>\n",
       "      <td>83.036277</td>\n",
       "      <td>2015-04-20 22:10:00</td>\n",
       "      <td>NaT</td>\n",
       "      <td>NaT</td>\n",
       "      <td>23:23:08</td>\n",
       "      <td>23:23:08</td>\n",
       "      <td>23:23:08</td>\n",
       "      <td>23:14:01</td>\n",
       "    </tr>\n",
       "    <tr>\n",
       "      <th>6</th>\n",
       "      <td>42.0</td>\n",
       "      <td>42.0</td>\n",
       "      <td>NaN</td>\n",
       "      <td>NaN</td>\n",
       "      <td>83.0</td>\n",
       "      <td>79.0</td>\n",
       "      <td>27668302014-05-23</td>\n",
       "      <td>82.242300</td>\n",
       "      <td>NaT</td>\n",
       "      <td>20:30:11</td>\n",
       "      <td>20:30:11</td>\n",
       "      <td>NaT</td>\n",
       "      <td>NaT</td>\n",
       "      <td>20:29:50</td>\n",
       "      <td>20:29:40</td>\n",
       "    </tr>\n",
       "    <tr>\n",
       "      <th>7</th>\n",
       "      <td>NaN</td>\n",
       "      <td>NaN</td>\n",
       "      <td>68.0</td>\n",
       "      <td>68.0</td>\n",
       "      <td>67.0</td>\n",
       "      <td>31.0</td>\n",
       "      <td>27717732014-05-11</td>\n",
       "      <td>52.375086</td>\n",
       "      <td>NaT</td>\n",
       "      <td>NaT</td>\n",
       "      <td>NaT</td>\n",
       "      <td>16:44:00</td>\n",
       "      <td>16:44:00</td>\n",
       "      <td>16:44:00</td>\n",
       "      <td>16:43:30</td>\n",
       "    </tr>\n",
       "    <tr>\n",
       "      <th>8</th>\n",
       "      <td>45.0</td>\n",
       "      <td>45.0</td>\n",
       "      <td>252.0</td>\n",
       "      <td>252.0</td>\n",
       "      <td>273.0</td>\n",
       "      <td>273.0</td>\n",
       "      <td>27736182014-05-06</td>\n",
       "      <td>65.007529</td>\n",
       "      <td>2014-07-05 07:27:00</td>\n",
       "      <td>01:19:53</td>\n",
       "      <td>01:19:53</td>\n",
       "      <td>22:04:10</td>\n",
       "      <td>22:04:10</td>\n",
       "      <td>23:40:19</td>\n",
       "      <td>23:40:20</td>\n",
       "    </tr>\n",
       "    <tr>\n",
       "      <th>9</th>\n",
       "      <td>67.0</td>\n",
       "      <td>67.0</td>\n",
       "      <td>NaN</td>\n",
       "      <td>NaN</td>\n",
       "      <td>93.0</td>\n",
       "      <td>95.0</td>\n",
       "      <td>27789292014-07-14</td>\n",
       "      <td>86.751540</td>\n",
       "      <td>2014-10-15 13:16:00</td>\n",
       "      <td>22:59:48</td>\n",
       "      <td>22:59:48</td>\n",
       "      <td>NaT</td>\n",
       "      <td>NaT</td>\n",
       "      <td>22:59:40</td>\n",
       "      <td>22:59:40</td>\n",
       "    </tr>\n",
       "    <tr>\n",
       "      <th>10</th>\n",
       "      <td>15.0</td>\n",
       "      <td>15.0</td>\n",
       "      <td>1.0</td>\n",
       "      <td>1.0</td>\n",
       "      <td>64.0</td>\n",
       "      <td>63.0</td>\n",
       "      <td>27906582014-05-11</td>\n",
       "      <td>57.177276</td>\n",
       "      <td>NaT</td>\n",
       "      <td>13:30:06</td>\n",
       "      <td>13:30:06</td>\n",
       "      <td>00:00:00</td>\n",
       "      <td>00:00:00</td>\n",
       "      <td>15:21:51</td>\n",
       "      <td>15:21:30</td>\n",
       "    </tr>\n",
       "    <tr>\n",
       "      <th>11</th>\n",
       "      <td>NaN</td>\n",
       "      <td>NaN</td>\n",
       "      <td>90.0</td>\n",
       "      <td>90.0</td>\n",
       "      <td>91.0</td>\n",
       "      <td>91.0</td>\n",
       "      <td>27913062014-05-11</td>\n",
       "      <td>73.409993</td>\n",
       "      <td>NaT</td>\n",
       "      <td>NaT</td>\n",
       "      <td>NaT</td>\n",
       "      <td>22:53:00</td>\n",
       "      <td>22:53:00</td>\n",
       "      <td>22:57:51</td>\n",
       "      <td>22:57:51</td>\n",
       "    </tr>\n",
       "    <tr>\n",
       "      <th>12</th>\n",
       "      <td>NaN</td>\n",
       "      <td>NaN</td>\n",
       "      <td>84.0</td>\n",
       "      <td>84.0</td>\n",
       "      <td>83.0</td>\n",
       "      <td>83.0</td>\n",
       "      <td>28139842014-05-15</td>\n",
       "      <td>78.694045</td>\n",
       "      <td>NaT</td>\n",
       "      <td>NaT</td>\n",
       "      <td>NaT</td>\n",
       "      <td>20:03:10</td>\n",
       "      <td>20:03:10</td>\n",
       "      <td>20:03:10</td>\n",
       "      <td>20:03:10</td>\n",
       "    </tr>\n",
       "    <tr>\n",
       "      <th>13</th>\n",
       "      <td>NaN</td>\n",
       "      <td>NaN</td>\n",
       "      <td>41.0</td>\n",
       "      <td>41.0</td>\n",
       "      <td>41.0</td>\n",
       "      <td>41.0</td>\n",
       "      <td>28173522014-05-16</td>\n",
       "      <td>66.390144</td>\n",
       "      <td>NaT</td>\n",
       "      <td>NaT</td>\n",
       "      <td>NaT</td>\n",
       "      <td>23:29:29</td>\n",
       "      <td>23:29:29</td>\n",
       "      <td>23:29:29</td>\n",
       "      <td>23:29:29</td>\n",
       "    </tr>\n",
       "    <tr>\n",
       "      <th>14</th>\n",
       "      <td>29.0</td>\n",
       "      <td>29.0</td>\n",
       "      <td>NaN</td>\n",
       "      <td>NaN</td>\n",
       "      <td>57.0</td>\n",
       "      <td>57.0</td>\n",
       "      <td>28183652014-05-16</td>\n",
       "      <td>59.926078</td>\n",
       "      <td>NaT</td>\n",
       "      <td>14:10:41</td>\n",
       "      <td>14:10:41</td>\n",
       "      <td>NaT</td>\n",
       "      <td>NaT</td>\n",
       "      <td>14:28:41</td>\n",
       "      <td>14:28:41</td>\n",
       "    </tr>\n",
       "    <tr>\n",
       "      <th>15</th>\n",
       "      <td>NaN</td>\n",
       "      <td>NaN</td>\n",
       "      <td>29.0</td>\n",
       "      <td>29.0</td>\n",
       "      <td>29.0</td>\n",
       "      <td>29.0</td>\n",
       "      <td>28210662014-05-20</td>\n",
       "      <td>72.361396</td>\n",
       "      <td>NaT</td>\n",
       "      <td>NaT</td>\n",
       "      <td>NaT</td>\n",
       "      <td>07:40:10</td>\n",
       "      <td>07:40:10</td>\n",
       "      <td>07:40:10</td>\n",
       "      <td>07:40:31</td>\n",
       "    </tr>\n",
       "    <tr>\n",
       "      <th>16</th>\n",
       "      <td>26.0</td>\n",
       "      <td>26.0</td>\n",
       "      <td>93.0</td>\n",
       "      <td>93.0</td>\n",
       "      <td>96.0</td>\n",
       "      <td>96.0</td>\n",
       "      <td>28225332014-07-11</td>\n",
       "      <td>75.323751</td>\n",
       "      <td>2014-09-20 18:30:00</td>\n",
       "      <td>01:11:13</td>\n",
       "      <td>01:11:13</td>\n",
       "      <td>22:50:50</td>\n",
       "      <td>22:50:50</td>\n",
       "      <td>23:42:11</td>\n",
       "      <td>23:42:40</td>\n",
       "    </tr>\n",
       "    <tr>\n",
       "      <th>17</th>\n",
       "      <td>68.0</td>\n",
       "      <td>68.0</td>\n",
       "      <td>NaN</td>\n",
       "      <td>NaN</td>\n",
       "      <td>96.0</td>\n",
       "      <td>96.0</td>\n",
       "      <td>28227132014-06-08</td>\n",
       "      <td>65.916496</td>\n",
       "      <td>2015-05-11 14:55:00</td>\n",
       "      <td>23:10:54</td>\n",
       "      <td>23:10:54</td>\n",
       "      <td>NaT</td>\n",
       "      <td>NaT</td>\n",
       "      <td>23:44:11</td>\n",
       "      <td>23:44:11</td>\n",
       "    </tr>\n",
       "    <tr>\n",
       "      <th>18</th>\n",
       "      <td>45.0</td>\n",
       "      <td>45.0</td>\n",
       "      <td>6.0</td>\n",
       "      <td>6.0</td>\n",
       "      <td>50.0</td>\n",
       "      <td>49.0</td>\n",
       "      <td>28227242014-05-16</td>\n",
       "      <td>56.906229</td>\n",
       "      <td>NaT</td>\n",
       "      <td>10:29:59</td>\n",
       "      <td>10:29:59</td>\n",
       "      <td>20:07:00</td>\n",
       "      <td>20:06:00</td>\n",
       "      <td>23:19:10</td>\n",
       "      <td>23:11:10</td>\n",
       "    </tr>\n",
       "    <tr>\n",
       "      <th>19</th>\n",
       "      <td>NaN</td>\n",
       "      <td>NaN</td>\n",
       "      <td>31.0</td>\n",
       "      <td>30.0</td>\n",
       "      <td>31.0</td>\n",
       "      <td>31.0</td>\n",
       "      <td>28282272014-05-19</td>\n",
       "      <td>72.114990</td>\n",
       "      <td>NaT</td>\n",
       "      <td>NaT</td>\n",
       "      <td>NaT</td>\n",
       "      <td>23:24:40</td>\n",
       "      <td>23:24:40</td>\n",
       "      <td>23:29:51</td>\n",
       "      <td>23:29:50</td>\n",
       "    </tr>\n",
       "  </tbody>\n",
       "</table>\n",
       "</div>"
      ],
      "text/plain": [
       "id_measure_type  11_x  12_x   14_x   15_x  10102_x  10120_x  \\\n",
       "0                67.0  66.0   41.0   41.0     97.0     96.0   \n",
       "1                25.0  25.0   96.0   96.0     96.0     96.0   \n",
       "2                 NaN   NaN   83.0   83.0     83.0     83.0   \n",
       "3                 NaN   NaN   93.0   93.0     93.0     92.0   \n",
       "4                 NaN   NaN   60.0   60.0     60.0     60.0   \n",
       "5                 NaN   NaN   48.0   48.0     47.0     46.0   \n",
       "6                42.0  42.0    NaN    NaN     83.0     79.0   \n",
       "7                 NaN   NaN   68.0   68.0     67.0     31.0   \n",
       "8                45.0  45.0  252.0  252.0    273.0    273.0   \n",
       "9                67.0  67.0    NaN    NaN     93.0     95.0   \n",
       "10               15.0  15.0    1.0    1.0     64.0     63.0   \n",
       "11                NaN   NaN   90.0   90.0     91.0     91.0   \n",
       "12                NaN   NaN   84.0   84.0     83.0     83.0   \n",
       "13                NaN   NaN   41.0   41.0     41.0     41.0   \n",
       "14               29.0  29.0    NaN    NaN     57.0     57.0   \n",
       "15                NaN   NaN   29.0   29.0     29.0     29.0   \n",
       "16               26.0  26.0   93.0   93.0     96.0     96.0   \n",
       "17               68.0  68.0    NaN    NaN     96.0     96.0   \n",
       "18               45.0  45.0    6.0    6.0     50.0     49.0   \n",
       "19                NaN   NaN   31.0   30.0     31.0     31.0   \n",
       "\n",
       "id_measure_type           id_ndaj1        age            dt_deces     11_y  \\\n",
       "0                27445892014-05-08  62.171116 2014-08-04 05:33:00 14:14:42   \n",
       "1                27445892014-06-24  62.171116 2014-08-04 05:33:00 03:53:11   \n",
       "2                27542662014-05-05  55.961670                 NaT      NaT   \n",
       "3                27584082014-05-12  82.800821 2015-11-17 14:40:00      NaT   \n",
       "4                27606232014-05-01  61.620808                 NaT      NaT   \n",
       "5                27642382014-05-06  83.036277 2015-04-20 22:10:00      NaT   \n",
       "6                27668302014-05-23  82.242300                 NaT 20:30:11   \n",
       "7                27717732014-05-11  52.375086                 NaT      NaT   \n",
       "8                27736182014-05-06  65.007529 2014-07-05 07:27:00 01:19:53   \n",
       "9                27789292014-07-14  86.751540 2014-10-15 13:16:00 22:59:48   \n",
       "10               27906582014-05-11  57.177276                 NaT 13:30:06   \n",
       "11               27913062014-05-11  73.409993                 NaT      NaT   \n",
       "12               28139842014-05-15  78.694045                 NaT      NaT   \n",
       "13               28173522014-05-16  66.390144                 NaT      NaT   \n",
       "14               28183652014-05-16  59.926078                 NaT 14:10:41   \n",
       "15               28210662014-05-20  72.361396                 NaT      NaT   \n",
       "16               28225332014-07-11  75.323751 2014-09-20 18:30:00 01:11:13   \n",
       "17               28227132014-06-08  65.916496 2015-05-11 14:55:00 23:10:54   \n",
       "18               28227242014-05-16  56.906229                 NaT 10:29:59   \n",
       "19               28282272014-05-19  72.114990                 NaT      NaT   \n",
       "\n",
       "id_measure_type     12_y     14_y     15_y  10102_y  10120_y  \n",
       "0               14:14:42 23:37:01 23:37:01 23:37:01 23:38:41  \n",
       "1               03:53:11 23:33:01 23:33:01 23:39:29 23:44:31  \n",
       "2                    NaT 23:44:08 23:44:08 23:44:08 23:44:08  \n",
       "3                    NaT 23:38:01 23:39:01 23:39:01 22:45:50  \n",
       "4                    NaT 14:44:09 14:44:09 14:44:09 14:43:10  \n",
       "5                    NaT 23:23:08 23:23:08 23:23:08 23:14:01  \n",
       "6               20:30:11      NaT      NaT 20:29:50 20:29:40  \n",
       "7                    NaT 16:44:00 16:44:00 16:44:00 16:43:30  \n",
       "8               01:19:53 22:04:10 22:04:10 23:40:19 23:40:20  \n",
       "9               22:59:48      NaT      NaT 22:59:40 22:59:40  \n",
       "10              13:30:06 00:00:00 00:00:00 15:21:51 15:21:30  \n",
       "11                   NaT 22:53:00 22:53:00 22:57:51 22:57:51  \n",
       "12                   NaT 20:03:10 20:03:10 20:03:10 20:03:10  \n",
       "13                   NaT 23:29:29 23:29:29 23:29:29 23:29:29  \n",
       "14              14:10:41      NaT      NaT 14:28:41 14:28:41  \n",
       "15                   NaT 07:40:10 07:40:10 07:40:10 07:40:31  \n",
       "16              01:11:13 22:50:50 22:50:50 23:42:11 23:42:40  \n",
       "17              23:10:54      NaT      NaT 23:44:11 23:44:11  \n",
       "18              10:29:59 20:07:00 20:06:00 23:19:10 23:11:10  \n",
       "19                   NaT 23:24:40 23:24:40 23:29:51 23:29:50  "
      ]
     },
     "execution_count": 32,
     "metadata": {},
     "output_type": "execute_result"
    }
   ],
   "source": [
    "result.head(20)"
   ]
  },
  {
   "cell_type": "code",
   "execution_count": 33,
   "metadata": {
    "collapsed": false
   },
   "outputs": [
    {
     "data": {
      "text/plain": [
       "(592, 15)"
      ]
     },
     "execution_count": 33,
     "metadata": {},
     "output_type": "execute_result"
    }
   ],
   "source": [
    "result[result['dt_deces'].notnull()].shape"
   ]
  },
  {
   "cell_type": "code",
   "execution_count": 34,
   "metadata": {
    "collapsed": false
   },
   "outputs": [
    {
     "data": {
      "text/plain": [
       "array([[<matplotlib.axes._subplots.AxesSubplot object at 0x7f7920932450>,\n",
       "        <matplotlib.axes._subplots.AxesSubplot object at 0x7f792006e090>],\n",
       "       [<matplotlib.axes._subplots.AxesSubplot object at 0x7f79190fa0d0>,\n",
       "        <matplotlib.axes._subplots.AxesSubplot object at 0x7f79191c2650>],\n",
       "       [<matplotlib.axes._subplots.AxesSubplot object at 0x7f7918fef5d0>,\n",
       "        <matplotlib.axes._subplots.AxesSubplot object at 0x7f7918fb5390>]], dtype=object)"
      ]
     },
     "execution_count": 34,
     "metadata": {},
     "output_type": "execute_result"
    },
    {
     "data": {
      "image/png": "[encoded data removed]",
      "text/plain": [
       "<matplotlib.figure.Figure at 0x7f7921fc0d10>"
      ]
     },
     "metadata": {},
     "output_type": "display_data"
    }
   ],
   "source": [
    "result[['id_ndaj1', '11_x', '12_x', '14_x', '15_x', '10102_x', '10120_x']].hist(figsize=(15, 10), bins=50, alpha=0.7)"
   ]
  },
  {
   "cell_type": "markdown",
   "metadata": {},
   "source": [
    "# final mortality rate"
   ]
  },
  {
   "cell_type": "code",
   "execution_count": 35,
   "metadata": {
    "collapsed": false
   },
   "outputs": [
    {
     "data": {
      "text/plain": [
       "21.91780821917808"
      ]
     },
     "execution_count": 35,
     "metadata": {},
     "output_type": "execute_result"
    }
   ],
   "source": [
    "float(result[result['dt_deces'].notnull()].shape[0]) / float(result.shape[0]) * 100."
   ]
  },
  {
   "cell_type": "markdown",
   "metadata": {},
   "source": [
    "# Create a parquet table using SparkSQL:\n",
    "### id_nda (APHP stay) / j1 (date entrance ICU) / dt_deces (Dath date)"
   ]
  },
  {
   "cell_type": "code",
   "execution_count": 38,
   "metadata": {
    "collapsed": false
   },
   "outputs": [],
   "source": [
    "# start py-spark\n",
    "import os\n",
    "import sys\n",
    "\n",
    "spark_home = os.environ.get('SPARK_HOME', \"/opt/mapr/spark/spark-1.6.1\")\n",
    "os.environ['SPARK_HOME'] = spark_home\n",
    "os.environ['PYSPARK_DRIVER_PYTHON'] =\"jupyter\"\n",
    "os.environ['PYSPARK_DRIVER_PYTHON_OPTS']=\"notebook\"\n",
    "sys.path.insert(0, os.path.join(spark_home, 'python'))\n",
    "sys.path.insert(0, os.path.join(spark_home, 'python/lib/py4j-0.8.2.1-src.zip'))\n",
    "# execfile(os.path.join(spark_home, 'python/pyspark/shell.py'))"
   ]
  },
  {
   "cell_type": "code",
   "execution_count": 46,
   "metadata": {
    "collapsed": true
   },
   "outputs": [],
   "source": [
    "import py4j\n",
    "import pyspark\n",
    "import platform\n",
    "import re\n",
    "import shutil\n",
    "from pyspark.sql import HiveContext\n",
    "from pyspark.context import SparkContext, SparkConf\n",
    "from pyspark.sql.types import *"
   ]
  },
  {
   "cell_type": "code",
   "execution_count": 41,
   "metadata": {
    "collapsed": true
   },
   "outputs": [],
   "source": [
    "conf = (SparkConf()\n",
    "           .setMaster(\"local\")\n",
    "           .setAppName(\"PySparkShell\")\n",
    "           .set(\"spark.executor.memory\", \"8g\")\n",
    "           .set(\"spark.core.connection.ack.wait.timeout\", \"600\")\n",
    "           .set(\"spark.akka.frameSize\", \"512\")\n",
    "           .set(\"spark.cassandra.output.batch.size.bytes\", \"131072\")\n",
    "      )\n",
    "if SparkContext._active_spark_context is None:\n",
    "    sc = SparkContext(conf = conf)"
   ]
  },
  {
   "cell_type": "code",
   "execution_count": 42,
   "metadata": {
    "collapsed": true
   },
   "outputs": [],
   "source": [
    "from pyspark.sql import SQLContext\n",
    "sql = SQLContext(sc)"
   ]
  },
  {
   "cell_type": "code",
   "execution_count": 85,
   "metadata": {
    "collapsed": false
   },
   "outputs": [],
   "source": [
    "# Transform result pandas DataFrame to Spark DataFrame\n",
    "pd.options.mode.chained_assignment = None # to avoid pandas warnings\n",
    "\n",
    "df_src_pd = result['id_ndaj1'].str.extract('(^[0-9]{7})([0-9]{4}-[0-9]{2}-[0-9]{2})', expand=False)\n",
    "df_src_pd.columns = ['id_nda', 'j1']\n",
    "df_src_pd['dt_deces'] = result.dt_deces.apply(str)\n",
    "schema = StructType([\n",
    "  StructField(\"id_nda\", StringType(), True),\n",
    "  StructField(\"j1\", StringType(), True),\n",
    "  StructField(\"dt_deces\", StringType(), True)])\n",
    "spark_df = sql.createDataFrame(df_src_pd, schema)"
   ]
  },
  {
   "cell_type": "code",
   "execution_count": 86,
   "metadata": {
    "collapsed": false
   },
   "outputs": [
    {
     "name": "stdout",
     "output_type": "stream",
     "text": [
      "+-------+----------+-------------------+\n",
      "| id_nda|        j1|           dt_deces|\n",
      "+-------+----------+-------------------+\n",
      "|2744589|2014-05-08|2014-08-04 05:33:00|\n",
      "|2744589|2014-06-24|2014-08-04 05:33:00|\n",
      "|2754266|2014-05-05|                NaT|\n",
      "|2758408|2014-05-12|2015-11-17 14:40:00|\n",
      "|2760623|2014-05-01|                NaT|\n",
      "|2764238|2014-05-06|2015-04-20 22:10:00|\n",
      "|2766830|2014-05-23|                NaT|\n",
      "|2771773|2014-05-11|                NaT|\n",
      "|2773618|2014-05-06|2014-07-05 07:27:00|\n",
      "|2778929|2014-07-14|2014-10-15 13:16:00|\n",
      "+-------+----------+-------------------+\n",
      "\n"
     ]
    }
   ],
   "source": [
    "spark_df.limit(10).show()"
   ]
  },
  {
   "cell_type": "code",
   "execution_count": 87,
   "metadata": {
    "collapsed": true
   },
   "outputs": [],
   "source": [
    "# save as parquet\n",
    "spark_df.write.parquet(\"/user/mapr/eds/nda_j1_deces\")"
   ]
  },
  {
   "cell_type": "code",
   "execution_count": 88,
   "metadata": {
    "collapsed": false
   },
   "outputs": [],
   "source": [
    "# sdf = spark_df.limit(10).toPandas()\n",
    "# sdf"
   ]
  },
  {
   "cell_type": "code",
   "execution_count": 90,
   "metadata": {
    "collapsed": false
   },
   "outputs": [],
   "source": [
    "sc.stop()"
   ]
  },
  {
   "cell_type": "code",
   "execution_count": 92,
   "metadata": {
    "collapsed": false
   },
   "outputs": [
    {
     "data": {
      "text/plain": [
       "<pyodbc.Cursor at 0x7f7918035f90>"
      ]
     },
     "execution_count": 92,
     "metadata": {},
     "output_type": "execute_result"
    }
   ],
   "source": [
    "#\n",
    "# create table of useful sensors\n",
    "#\n",
    "ctas = \"create table icu_sensor_util as \\\n",
    "select * from icu_sensor_24 where dt_cancel = '' \\\n",
    "and CONCAT(cast(id_nda as VARCHAR),cast(TO_DATE(dt_deb) as VARCHAR)) in \\\n",
    "(select distinct(CONCAT(cast(id_nda as VARCHAR),j1)) from nda_j1_deces)\"\n",
    "\n",
    "conn.execute(ctas)"
   ]
  },
  {
   "cell_type": "code",
   "execution_count": 93,
   "metadata": {
    "collapsed": false
   },
   "outputs": [
    {
     "data": {
      "text/html": [
       "<div>\n",
       "<table border=\"1\" class=\"dataframe\">\n",
       "  <thead>\n",
       "    <tr style=\"text-align: right;\">\n",
       "      <th></th>\n",
       "      <th>count</th>\n",
       "    </tr>\n",
       "  </thead>\n",
       "  <tbody>\n",
       "    <tr>\n",
       "      <th>0</th>\n",
       "      <td>2817608</td>\n",
       "    </tr>\n",
       "  </tbody>\n",
       "</table>\n",
       "</div>"
      ],
      "text/plain": [
       "     count\n",
       "0  2817608"
      ]
     },
     "execution_count": 93,
     "metadata": {},
     "output_type": "execute_result"
    }
   ],
   "source": [
    "q8 = \"select count(1) from icu_sensor_util\"\n",
    "df_from_query(conn, q8)"
   ]
  },
  {
   "cell_type": "code",
   "execution_count": null,
   "metadata": {
    "collapsed": true
   },
   "outputs": [],
   "source": []
  }
 ],
 "metadata": {
  "kernelspec": {
   "display_name": "Python 2",
   "language": "python",
   "name": "python2"
  },
  "language_info": {
   "codemirror_mode": {
    "name": "ipython",
    "version": 2
   },
   "file_extension": ".py",
   "mimetype": "text/x-python",
   "name": "python",
   "nbconvert_exporter": "python",
   "pygments_lexer": "ipython2",
   "version": "2.7.11"
  }
 },
 "nbformat": 4,
 "nbformat_minor": 0
}
