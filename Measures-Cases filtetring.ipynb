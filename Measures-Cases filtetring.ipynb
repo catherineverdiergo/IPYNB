{
 "cells": [
  {
   "cell_type": "code",
   "execution_count": 1,
   "metadata": {
    "collapsed": false
   },
   "outputs": [
    {
     "name": "stdout",
     "output_type": "stream",
     "text": [
      "c:\\anaconda2\\envs\\mypy\n",
      "2.7.12 |Continuum Analytics, Inc.| (default, Jun 29 2016, 11:07:13) [MSC v.1500 64 bit (AMD64)]\n"
     ]
    }
   ],
   "source": [
    "import sys\n",
    "print sys.prefix\n",
    "print sys.version"
   ]
  },
  {
   "cell_type": "markdown",
   "metadata": {},
   "source": [
    "## Import custom modules and create the DrillQueries singleton"
   ]
  },
  {
   "cell_type": "code",
   "execution_count": 2,
   "metadata": {
    "collapsed": false
   },
   "outputs": [],
   "source": [
    "import aphp_waves_dic as wd\n",
    "import drill_utilities as du\n",
    "import drill_queries as dq\n",
    "\n",
    "drill_q = dq.DrillQueries(\"drill_eds\", ['HR', 'RR', 'ABPS', 'ABPD', 'SPO2'])"
   ]
  },
  {
   "cell_type": "code",
   "execution_count": null,
   "metadata": {
    "collapsed": false
   },
   "outputs": [],
   "source": [
    "# drop/create temporary tables\n",
    "drill_q.drop_table(\"icu_nda_mouv_ufr_tr\")\n",
    "drill_q.create_icu_nda_mouv_ufr_tr()\n",
    "drill_q.drop_table(\"icu_sensor_24\")\n",
    "drill_q.create_icu_sensor_24()\n",
    "drill_q.drop_table(\"icu_pat_info\")\n",
    "drill_q.create_icu_pat_info()"
   ]
  },
  {
   "cell_type": "code",
   "execution_count": 4,
   "metadata": {
    "collapsed": false
   },
   "outputs": [],
   "source": [
    "import warnings\n",
    "warnings.filterwarnings('ignore')\n",
    "from matplotlib import pyplot as plt\n",
    "import seaborn as sns\n",
    "%matplotlib inline"
   ]
  },
  {
   "cell_type": "markdown",
   "metadata": {},
   "source": [
    "## Number of measures by type (first 24h in ICU)"
   ]
  },
  {
   "cell_type": "code",
   "execution_count": 5,
   "metadata": {
    "collapsed": false,
    "scrolled": true
   },
   "outputs": [
    {
     "data": {
      "text/html": [
       "<div>\n",
       "<table border=\"1\" class=\"dataframe\">\n",
       "  <thead>\n",
       "    <tr style=\"text-align: right;\">\n",
       "      <th></th>\n",
       "      <th>counter</th>\n",
       "      <th>id_measure_type</th>\n",
       "      <th>label</th>\n",
       "    </tr>\n",
       "  </thead>\n",
       "  <tbody>\n",
       "    <tr>\n",
       "      <th>0</th>\n",
       "      <td>246490</td>\n",
       "      <td>10102</td>\n",
       "      <td>Fr\u001aquence cardiaque</td>\n",
       "    </tr>\n",
       "    <tr>\n",
       "      <th>1</th>\n",
       "      <td>243159</td>\n",
       "      <td>10168</td>\n",
       "      <td>Saturation puls\u001ae Oxyg\u001ane</td>\n",
       "    </tr>\n",
       "    <tr>\n",
       "      <th>2</th>\n",
       "      <td>237342</td>\n",
       "      <td>10120</td>\n",
       "      <td>Frequence respiratoire</td>\n",
       "    </tr>\n",
       "    <tr>\n",
       "      <th>3</th>\n",
       "      <td>191174</td>\n",
       "      <td>10121</td>\n",
       "      <td>Mode Ventilatoire</td>\n",
       "    </tr>\n",
       "    <tr>\n",
       "      <th>4</th>\n",
       "      <td>146710</td>\n",
       "      <td>11</td>\n",
       "      <td>Pression art\u001arielle non invasive systolique</td>\n",
       "    </tr>\n",
       "    <tr>\n",
       "      <th>5</th>\n",
       "      <td>145689</td>\n",
       "      <td>12</td>\n",
       "      <td>Pression art\u001arielle non invasive diastolique</td>\n",
       "    </tr>\n",
       "    <tr>\n",
       "      <th>6</th>\n",
       "      <td>142949</td>\n",
       "      <td>13</td>\n",
       "      <td>Pression art\u001arielle non invasive moyenne</td>\n",
       "    </tr>\n",
       "    <tr>\n",
       "      <th>7</th>\n",
       "      <td>140900</td>\n",
       "      <td>10281</td>\n",
       "      <td>MEGS PAS Intervalle 2h</td>\n",
       "    </tr>\n",
       "    <tr>\n",
       "      <th>8</th>\n",
       "      <td>140433</td>\n",
       "      <td>10282</td>\n",
       "      <td>MEGS PAM intervalle 2h</td>\n",
       "    </tr>\n",
       "    <tr>\n",
       "      <th>9</th>\n",
       "      <td>140124</td>\n",
       "      <td>10283</td>\n",
       "      <td>MEGS PAD intervalle 2h</td>\n",
       "    </tr>\n",
       "  </tbody>\n",
       "</table>\n",
       "</div>"
      ],
      "text/plain": [
       "   counter  id_measure_type                                         label\n",
       "0   246490            10102                           Fr\u001aquence cardiaque\n",
       "1   243159            10168                     Saturation puls\u001ae Oxyg\u001ane\n",
       "2   237342            10120                        Frequence respiratoire\n",
       "3   191174            10121                             Mode Ventilatoire\n",
       "4   146710               11   Pression art\u001arielle non invasive systolique\n",
       "5   145689               12  Pression art\u001arielle non invasive diastolique\n",
       "6   142949               13      Pression art\u001arielle non invasive moyenne\n",
       "7   140900            10281                        MEGS PAS Intervalle 2h\n",
       "8   140433            10282                        MEGS PAM intervalle 2h\n",
       "9   140124            10283                        MEGS PAD intervalle 2h"
      ]
     },
     "execution_count": 5,
     "metadata": {},
     "output_type": "execute_result"
    }
   ],
   "source": [
    "df_mes = drill_q.drill_conn.df_from_query(drill_q.queries['QUERY_MEASURES_COUNTERS'])\n",
    "df_mes.head(10)"
   ]
  },
  {
   "cell_type": "code",
   "execution_count": 6,
   "metadata": {
    "collapsed": false
   },
   "outputs": [
    {
     "data": {
      "image/png": "[encoded data removed]",
      "text/plain": [
       "<matplotlib.figure.Figure at 0x9a38f60>"
      ]
     },
     "metadata": {},
     "output_type": "display_data"
    }
   ],
   "source": [
    "ax = df_mes[['counter', 'label']].head(30).plot(kind = 'bar', color = '#5566b7', alpha=0.6, figsize=(15, 5));\n",
    "ax.set_xticklabels(df_mes['label'].str.decode('utf8'), rotation=40, fontsize=12, ha='right');"
   ]
  },
  {
   "cell_type": "markdown",
   "metadata": {},
   "source": [
    "## sample time bounds"
   ]
  },
  {
   "cell_type": "code",
   "execution_count": 7,
   "metadata": {
    "collapsed": false
   },
   "outputs": [
    {
     "data": {
      "text/html": [
       "<div>\n",
       "<table border=\"1\" class=\"dataframe\">\n",
       "  <thead>\n",
       "    <tr style=\"text-align: right;\">\n",
       "      <th></th>\n",
       "      <th>begining</th>\n",
       "      <th>ending</th>\n",
       "    </tr>\n",
       "  </thead>\n",
       "  <tbody>\n",
       "    <tr>\n",
       "      <th>0</th>\n",
       "      <td>2012-09-05</td>\n",
       "      <td>2016-05-17</td>\n",
       "    </tr>\n",
       "  </tbody>\n",
       "</table>\n",
       "</div>"
      ],
      "text/plain": [
       "     begining      ending\n",
       "0  2012-09-05  2016-05-17"
      ]
     },
     "execution_count": 7,
     "metadata": {},
     "output_type": "execute_result"
    }
   ],
   "source": [
    "drill_q.drill_conn.df_from_query(\"select min(dt_deb) as begining, max(dt_deb) as ending from icu_sensor_24\")"
   ]
  },
  {
   "cell_type": "markdown",
   "metadata": {},
   "source": [
    "## Counting measures by cases"
   ]
  },
  {
   "cell_type": "code",
   "execution_count": 8,
   "metadata": {
    "collapsed": false
   },
   "outputs": [
    {
     "name": "stdout",
     "output_type": "stream",
     "text": [
      "Total number of cases for first 24h on ICUs:  3706\n"
     ]
    }
   ],
   "source": [
    "counter_matrix = drill_q.get_counter_matrix()\n",
    "print \"Total number of cases for first 24h on ICUs: \", len(counter_matrix)"
   ]
  },
  {
   "cell_type": "code",
   "execution_count": 9,
   "metadata": {
    "collapsed": false
   },
   "outputs": [
    {
     "data": {
      "text/html": [
       "<div>\n",
       "<table border=\"1\" class=\"dataframe\">\n",
       "  <thead>\n",
       "    <tr style=\"text-align: right;\">\n",
       "      <th>id_measure_type</th>\n",
       "      <th>11</th>\n",
       "      <th>12</th>\n",
       "      <th>14</th>\n",
       "      <th>15</th>\n",
       "      <th>10102</th>\n",
       "      <th>10120</th>\n",
       "      <th>10168</th>\n",
       "      <th>10280</th>\n",
       "      <th>10281</th>\n",
       "      <th>10283</th>\n",
       "      <th>10285</th>\n",
       "      <th>10291</th>\n",
       "    </tr>\n",
       "    <tr>\n",
       "      <th>id_ndaj1</th>\n",
       "      <th></th>\n",
       "      <th></th>\n",
       "      <th></th>\n",
       "      <th></th>\n",
       "      <th></th>\n",
       "      <th></th>\n",
       "      <th></th>\n",
       "      <th></th>\n",
       "      <th></th>\n",
       "      <th></th>\n",
       "      <th></th>\n",
       "      <th></th>\n",
       "    </tr>\n",
       "  </thead>\n",
       "  <tbody>\n",
       "    <tr>\n",
       "      <th>27445892014-05-08</th>\n",
       "      <td>67.0</td>\n",
       "      <td>66.0</td>\n",
       "      <td>41.0</td>\n",
       "      <td>41.0</td>\n",
       "      <td>97.0</td>\n",
       "      <td>96.0</td>\n",
       "      <td>96.0</td>\n",
       "      <td>11.0</td>\n",
       "      <td>71.0</td>\n",
       "      <td>70.0</td>\n",
       "      <td>11.0</td>\n",
       "      <td>11.0</td>\n",
       "    </tr>\n",
       "    <tr>\n",
       "      <th>27445892014-06-24</th>\n",
       "      <td>25.0</td>\n",
       "      <td>25.0</td>\n",
       "      <td>96.0</td>\n",
       "      <td>96.0</td>\n",
       "      <td>96.0</td>\n",
       "      <td>96.0</td>\n",
       "      <td>96.0</td>\n",
       "      <td>12.0</td>\n",
       "      <td>12.0</td>\n",
       "      <td>12.0</td>\n",
       "      <td>12.0</td>\n",
       "      <td>12.0</td>\n",
       "    </tr>\n",
       "    <tr>\n",
       "      <th>27542662014-05-05</th>\n",
       "      <td>NaN</td>\n",
       "      <td>NaN</td>\n",
       "      <td>83.0</td>\n",
       "      <td>83.0</td>\n",
       "      <td>83.0</td>\n",
       "      <td>83.0</td>\n",
       "      <td>82.0</td>\n",
       "      <td>12.0</td>\n",
       "      <td>12.0</td>\n",
       "      <td>12.0</td>\n",
       "      <td>10.0</td>\n",
       "      <td>12.0</td>\n",
       "    </tr>\n",
       "  </tbody>\n",
       "</table>\n",
       "</div>"
      ],
      "text/plain": [
       "id_measure_type    11     12     14     15     10102  10120  10168  10280  \\\n",
       "id_ndaj1                                                                    \n",
       "27445892014-05-08   67.0   66.0   41.0   41.0   97.0   96.0   96.0   11.0   \n",
       "27445892014-06-24   25.0   25.0   96.0   96.0   96.0   96.0   96.0   12.0   \n",
       "27542662014-05-05    NaN    NaN   83.0   83.0   83.0   83.0   82.0   12.0   \n",
       "\n",
       "id_measure_type    10281  10283  10285  10291  \n",
       "id_ndaj1                                       \n",
       "27445892014-05-08   71.0   70.0   11.0   11.0  \n",
       "27445892014-06-24   12.0   12.0   12.0   12.0  \n",
       "27542662014-05-05   12.0   12.0   10.0   12.0  "
      ]
     },
     "execution_count": 9,
     "metadata": {},
     "output_type": "execute_result"
    }
   ],
   "source": [
    "counter_matrix.head(3)"
   ]
  },
  {
   "cell_type": "markdown",
   "metadata": {},
   "source": [
    "## Filter when one of the VOI is not defined\n",
    "VOI = Variable of Interest"
   ]
  },
  {
   "cell_type": "code",
   "execution_count": 10,
   "metadata": {
    "collapsed": false
   },
   "outputs": [
    {
     "name": "stdout",
     "output_type": "stream",
     "text": [
      "Number of cases for first 24h having values for ['HR', 'RR', 'ABPS', 'ABPD', 'SPO2']: 3190\n"
     ]
    }
   ],
   "source": [
    "counter_matrix = drill_q.case_first_level_filter(counter_matrix)\n",
    "print(\"Number of cases for first 24h having values for {}: {}\".format(drill_q._voi, len(counter_matrix)))"
   ]
  },
  {
   "cell_type": "markdown",
   "metadata": {},
   "source": [
    "## Filter when one of the VOIs have less than 6 points"
   ]
  },
  {
   "cell_type": "code",
   "execution_count": 11,
   "metadata": {
    "collapsed": false
   },
   "outputs": [
    {
     "name": "stdout",
     "output_type": "stream",
     "text": [
      "Number of cases for first 24h having at least 6 values for ['HR', 'RR', 'ABPS', 'ABPD', 'SPO2']: 2951\n"
     ]
    }
   ],
   "source": [
    "counter_matrix = drill_q.case_second_level_filter(counter_matrix, 6)\n",
    "print(\"Number of cases for first 24h having at least 6 values for {}: {}\".format(drill_q._voi, len(counter_matrix)))"
   ]
  },
  {
   "cell_type": "markdown",
   "metadata": {},
   "source": [
    "## Filter for patients having less than 15"
   ]
  },
  {
   "cell_type": "code",
   "execution_count": 12,
   "metadata": {
    "collapsed": false
   },
   "outputs": [
    {
     "name": "stdout",
     "output_type": "stream",
     "text": [
      "Number of cases for first 24h having at least 6 values for ['HR', 'RR', 'ABPS', 'ABPD', 'SPO2'] and more than 15 years old: 2948\n"
     ]
    }
   ],
   "source": [
    "demographic_df = drill_q.get_cases_data()\n",
    "c_matrix = drill_q.case_more_age_filter(counter_matrix, demographic_df, age_min=15)\n",
    "print(\"Number of cases for first 24h having at least 6 values for {} and more than 15 years old: {}\"\n",
    "      .format(drill_q.voi, len(c_matrix)))"
   ]
  },
  {
   "cell_type": "code",
   "execution_count": 13,
   "metadata": {
    "collapsed": false
   },
   "outputs": [
    {
     "data": {
      "text/html": [
       "<div>\n",
       "<table border=\"1\" class=\"dataframe\">\n",
       "  <thead>\n",
       "    <tr style=\"text-align: right;\">\n",
       "      <th>id_measure_type</th>\n",
       "      <th>11</th>\n",
       "      <th>12</th>\n",
       "      <th>14</th>\n",
       "      <th>15</th>\n",
       "      <th>10102</th>\n",
       "      <th>10120</th>\n",
       "      <th>10168</th>\n",
       "      <th>10280</th>\n",
       "      <th>10281</th>\n",
       "      <th>10283</th>\n",
       "      <th>10285</th>\n",
       "      <th>10291</th>\n",
       "      <th>age</th>\n",
       "      <th>dt_deces</th>\n",
       "    </tr>\n",
       "    <tr>\n",
       "      <th>id_ndaj1</th>\n",
       "      <th></th>\n",
       "      <th></th>\n",
       "      <th></th>\n",
       "      <th></th>\n",
       "      <th></th>\n",
       "      <th></th>\n",
       "      <th></th>\n",
       "      <th></th>\n",
       "      <th></th>\n",
       "      <th></th>\n",
       "      <th></th>\n",
       "      <th></th>\n",
       "      <th></th>\n",
       "      <th></th>\n",
       "    </tr>\n",
       "  </thead>\n",
       "  <tbody>\n",
       "    <tr>\n",
       "      <th>95956472016-04-06</th>\n",
       "      <td>9.0</td>\n",
       "      <td>9.0</td>\n",
       "      <td>66.0</td>\n",
       "      <td>66.0</td>\n",
       "      <td>66.0</td>\n",
       "      <td>66.0</td>\n",
       "      <td>66.0</td>\n",
       "      <td>9.0</td>\n",
       "      <td>9.0</td>\n",
       "      <td>9.0</td>\n",
       "      <td>9.0</td>\n",
       "      <td>9.0</td>\n",
       "      <td>80.309377</td>\n",
       "      <td>2016-04-07 20:06:00</td>\n",
       "    </tr>\n",
       "    <tr>\n",
       "      <th>95761232016-04-04</th>\n",
       "      <td>70.0</td>\n",
       "      <td>70.0</td>\n",
       "      <td>0.0</td>\n",
       "      <td>0.0</td>\n",
       "      <td>65.0</td>\n",
       "      <td>65.0</td>\n",
       "      <td>65.0</td>\n",
       "      <td>9.0</td>\n",
       "      <td>69.0</td>\n",
       "      <td>69.0</td>\n",
       "      <td>9.0</td>\n",
       "      <td>9.0</td>\n",
       "      <td>48.487337</td>\n",
       "      <td>NaT</td>\n",
       "    </tr>\n",
       "  </tbody>\n",
       "</table>\n",
       "</div>"
      ],
      "text/plain": [
       "id_measure_type      11    12    14    15  10102  10120  10168  10280  10281  \\\n",
       "id_ndaj1                                                                       \n",
       "95956472016-04-06   9.0   9.0  66.0  66.0   66.0   66.0   66.0    9.0    9.0   \n",
       "95761232016-04-04  70.0  70.0   0.0   0.0   65.0   65.0   65.0    9.0   69.0   \n",
       "\n",
       "id_measure_type    10283  10285  10291        age            dt_deces  \n",
       "id_ndaj1                                                               \n",
       "95956472016-04-06    9.0    9.0    9.0  80.309377 2016-04-07 20:06:00  \n",
       "95761232016-04-04   69.0    9.0    9.0  48.487337                 NaT  "
      ]
     },
     "execution_count": 13,
     "metadata": {},
     "output_type": "execute_result"
    }
   ],
   "source": [
    "c_matrix.head(2)"
   ]
  },
  {
   "cell_type": "markdown",
   "metadata": {},
   "source": [
    "## Mortality rate at this stage"
   ]
  },
  {
   "cell_type": "code",
   "execution_count": 14,
   "metadata": {
    "collapsed": false,
    "scrolled": false
   },
   "outputs": [
    {
     "name": "stdout",
     "output_type": "stream",
     "text": [
      "Mortality rate: 22.2184531886\n"
     ]
    }
   ],
   "source": [
    "mr = float(c_matrix[c_matrix['dt_deces'].notnull()].shape[0]) / float(c_matrix.shape[0]) * 100.\n",
    "print(\"Mortality rate: {}\".format(mr))"
   ]
  },
  {
   "cell_type": "markdown",
   "metadata": {},
   "source": [
    "## Look for number of patients stayed more than 20h"
   ]
  },
  {
   "cell_type": "code",
   "execution_count": 15,
   "metadata": {
    "collapsed": false
   },
   "outputs": [
    {
     "name": "stdout",
     "output_type": "stream",
     "text": [
      "Number of cases for first 24h having at least 6 values for ['HR', 'RR', 'ABPS', 'ABPD', 'SPO2'] and more than 15 years old\n",
      "and stayed at least 20 hours: 2098\n"
     ]
    }
   ],
   "source": [
    "c_stay_more_20h = drill_q.case_filter_by_stay_interval(c_matrix, interval_min=20)\n",
    "print(\"Number of cases for first 24h having at least 6 values for {} and more than 15 years old\".format(drill_q.voi))\n",
    "print(\"and stayed at least 20 hours: {}\".format(len(c_stay_more_20h)))"
   ]
  },
  {
   "cell_type": "markdown",
   "metadata": {},
   "source": [
    "## Filter by stay length"
   ]
  },
  {
   "cell_type": "code",
   "execution_count": 16,
   "metadata": {
    "collapsed": false
   },
   "outputs": [
    {
     "name": "stdout",
     "output_type": "stream",
     "text": [
      "Number of cases for first 24h having at least 6 values for ['HR', 'RR', 'ABPS', 'ABPD', 'SPO2'] and more than 15 years old\n",
      "and stayed at least 3 hours: 2876\n"
     ]
    }
   ],
   "source": [
    "c_matrix = drill_q.case_filter_by_stay_interval(c_matrix, interval_min=3)\n",
    "print(\"Number of cases for first 24h having at least 6 values for {} and more than 15 years old\".format(drill_q.voi))\n",
    "print(\"and stayed at least 3 hours: {}\".format(len(c_matrix)))"
   ]
  },
  {
   "cell_type": "markdown",
   "metadata": {},
   "source": [
    "## Mortality rate at this stage"
   ]
  },
  {
   "cell_type": "code",
   "execution_count": 17,
   "metadata": {
    "collapsed": false,
    "scrolled": false
   },
   "outputs": [
    {
     "name": "stdout",
     "output_type": "stream",
     "text": [
      "Mortality rate: 21.9401947149\n"
     ]
    }
   ],
   "source": [
    "mr = float(c_matrix[c_matrix['dt_deces'].notnull()].shape[0]) / float(c_matrix.shape[0]) * 100.\n",
    "print(\"Mortality rate: {}\".format(mr))"
   ]
  },
  {
   "cell_type": "code",
   "execution_count": 18,
   "metadata": {
    "collapsed": false
   },
   "outputs": [
    {
     "data": {
      "text/html": [
       "<div>\n",
       "<table border=\"1\" class=\"dataframe\">\n",
       "  <thead>\n",
       "    <tr style=\"text-align: right;\">\n",
       "      <th>id_measure_type</th>\n",
       "      <th>11</th>\n",
       "      <th>12</th>\n",
       "      <th>14</th>\n",
       "      <th>15</th>\n",
       "      <th>10102</th>\n",
       "      <th>10120</th>\n",
       "      <th>10168</th>\n",
       "      <th>10280</th>\n",
       "      <th>10281</th>\n",
       "      <th>10283</th>\n",
       "      <th>...</th>\n",
       "      <th>age</th>\n",
       "      <th>dt_deces</th>\n",
       "      <th>dt_min</th>\n",
       "      <th>dt_max</th>\n",
       "      <th>stay_len</th>\n",
       "      <th>HR</th>\n",
       "      <th>RR</th>\n",
       "      <th>ABPS</th>\n",
       "      <th>ABPD</th>\n",
       "      <th>SPO2</th>\n",
       "    </tr>\n",
       "    <tr>\n",
       "      <th>id_ndaj1</th>\n",
       "      <th></th>\n",
       "      <th></th>\n",
       "      <th></th>\n",
       "      <th></th>\n",
       "      <th></th>\n",
       "      <th></th>\n",
       "      <th></th>\n",
       "      <th></th>\n",
       "      <th></th>\n",
       "      <th></th>\n",
       "      <th></th>\n",
       "      <th></th>\n",
       "      <th></th>\n",
       "      <th></th>\n",
       "      <th></th>\n",
       "      <th></th>\n",
       "      <th></th>\n",
       "      <th></th>\n",
       "      <th></th>\n",
       "      <th></th>\n",
       "      <th></th>\n",
       "    </tr>\n",
       "  </thead>\n",
       "  <tbody>\n",
       "    <tr>\n",
       "      <th>27445892014-05-08</th>\n",
       "      <td>67.0</td>\n",
       "      <td>66.0</td>\n",
       "      <td>41.0</td>\n",
       "      <td>41.0</td>\n",
       "      <td>97.0</td>\n",
       "      <td>96.0</td>\n",
       "      <td>96.0</td>\n",
       "      <td>11.0</td>\n",
       "      <td>71.0</td>\n",
       "      <td>70.0</td>\n",
       "      <td>...</td>\n",
       "      <td>62.171116</td>\n",
       "      <td>2014-08-04 05:33:00</td>\n",
       "      <td>2014-05-08 00:44:00</td>\n",
       "      <td>2014-05-09 00:21:01</td>\n",
       "      <td>23:37:01</td>\n",
       "      <td>108.0</td>\n",
       "      <td>107.0</td>\n",
       "      <td>179.0</td>\n",
       "      <td>177.0</td>\n",
       "      <td>107.0</td>\n",
       "    </tr>\n",
       "    <tr>\n",
       "      <th>27445892014-06-24</th>\n",
       "      <td>25.0</td>\n",
       "      <td>25.0</td>\n",
       "      <td>96.0</td>\n",
       "      <td>96.0</td>\n",
       "      <td>96.0</td>\n",
       "      <td>96.0</td>\n",
       "      <td>96.0</td>\n",
       "      <td>12.0</td>\n",
       "      <td>12.0</td>\n",
       "      <td>12.0</td>\n",
       "      <td>...</td>\n",
       "      <td>62.171116</td>\n",
       "      <td>2014-08-04 05:33:00</td>\n",
       "      <td>2014-06-24 19:13:09</td>\n",
       "      <td>2014-06-25 18:46:02</td>\n",
       "      <td>23:32:53</td>\n",
       "      <td>108.0</td>\n",
       "      <td>108.0</td>\n",
       "      <td>133.0</td>\n",
       "      <td>133.0</td>\n",
       "      <td>108.0</td>\n",
       "    </tr>\n",
       "  </tbody>\n",
       "</table>\n",
       "<p>2 rows × 22 columns</p>\n",
       "</div>"
      ],
      "text/plain": [
       "id_measure_type      11    12    14    15  10102  10120  10168  10280  10281  \\\n",
       "id_ndaj1                                                                       \n",
       "27445892014-05-08  67.0  66.0  41.0  41.0   97.0   96.0   96.0   11.0   71.0   \n",
       "27445892014-06-24  25.0  25.0  96.0  96.0   96.0   96.0   96.0   12.0   12.0   \n",
       "\n",
       "id_measure_type    10283  ...          age            dt_deces  \\\n",
       "id_ndaj1                  ...                                    \n",
       "27445892014-05-08   70.0  ...    62.171116 2014-08-04 05:33:00   \n",
       "27445892014-06-24   12.0  ...    62.171116 2014-08-04 05:33:00   \n",
       "\n",
       "id_measure_type                dt_min              dt_max stay_len     HR  \\\n",
       "id_ndaj1                                                                    \n",
       "27445892014-05-08 2014-05-08 00:44:00 2014-05-09 00:21:01 23:37:01  108.0   \n",
       "27445892014-06-24 2014-06-24 19:13:09 2014-06-25 18:46:02 23:32:53  108.0   \n",
       "\n",
       "id_measure_type       RR   ABPS   ABPD   SPO2  \n",
       "id_ndaj1                                       \n",
       "27445892014-05-08  107.0  179.0  177.0  107.0  \n",
       "27445892014-06-24  108.0  133.0  133.0  108.0  \n",
       "\n",
       "[2 rows x 22 columns]"
      ]
     },
     "execution_count": 18,
     "metadata": {},
     "output_type": "execute_result"
    }
   ],
   "source": [
    "for v in drill_q.voi:\n",
    "    aphp_codes = drill_q._dic.get_all_voi_codes([v])\n",
    "    c_matrix_v = c_matrix[aphp_codes]\n",
    "    c_matrix[v] = c_matrix_v.sum(axis=1)\n",
    "c_matrix.head(2)"
   ]
  },
  {
   "cell_type": "markdown",
   "metadata": {},
   "source": [
    "## Number of measures per VOI and age structure of the dataset"
   ]
  },
  {
   "cell_type": "code",
   "execution_count": 19,
   "metadata": {
    "collapsed": false
   },
   "outputs": [
    {
     "data": {
      "image/png": "[encoded data removed]",
      "text/plain": [
       "<matplotlib.figure.Figure at 0xcebd3c8>"
      ]
     },
     "metadata": {},
     "output_type": "display_data"
    }
   ],
   "source": [
    "l = list(drill_q.voi)\n",
    "l.append('age')\n",
    "c_matrix[l].hist(figsize=(20, 17), bins=50, alpha=0.7);"
   ]
  },
  {
   "cell_type": "markdown",
   "metadata": {},
   "source": [
    "## Generate Parquet file from pandas DataFrame with pyspark"
   ]
  },
  {
   "cell_type": "code",
   "execution_count": 18,
   "metadata": {
    "collapsed": false
   },
   "outputs": [
    {
     "name": "stdout",
     "output_type": "stream",
     "text": [
      "C:\\spark152\n"
     ]
    }
   ],
   "source": [
    "import os\n",
    "spark_home = \"C:\\spark152\"\n",
    "print(spark_home)\n",
    "os.environ['SPARK_HOME'] = spark_home\n",
    "os.environ['PYSPARK_DRIVER_PYTHON'] =\"jupyter\"\n",
    "os.environ['PYSPARK_DRIVER_PYTHON_OPTS']=\"notebook\"\n",
    "sys.path.insert(0, os.path.join(spark_home, 'python'))\n",
    "sys.path.insert(0, os.path.join(spark_home, 'python/lib/py4j-0.8.2.1-src.zip'))"
   ]
  },
  {
   "cell_type": "code",
   "execution_count": 19,
   "metadata": {
    "collapsed": false,
    "scrolled": true
   },
   "outputs": [],
   "source": [
    "import spark_util as su\n",
    "sc = su.SparkClient(spark_home, exec_memory=\"4g\")"
   ]
  },
  {
   "cell_type": "code",
   "execution_count": 20,
   "metadata": {
    "collapsed": false
   },
   "outputs": [],
   "source": [
    "# if 'spark_util' in sys.modules:\n",
    "#      del sys.modules[\"spark_util\"]"
   ]
  },
  {
   "cell_type": "code",
   "execution_count": 21,
   "metadata": {
    "collapsed": false
   },
   "outputs": [],
   "source": [
    "c_matrix['id_ndaj1'] = c_matrix.index\n",
    "sc.save_nda_j1_deces_from_df(c_matrix, \"d:/tmp/EDS_TABLES\", drill_q.voi)"
   ]
  },
  {
   "cell_type": "code",
   "execution_count": 22,
   "metadata": {
    "collapsed": false
   },
   "outputs": [],
   "source": [
    "sc._sc.stop()"
   ]
  },
  {
   "cell_type": "markdown",
   "metadata": {},
   "source": [
    "## Keep only useful measures"
   ]
  },
  {
   "cell_type": "code",
   "execution_count": 23,
   "metadata": {
    "collapsed": false
   },
   "outputs": [],
   "source": [
    "# drop/create temporary table icu_sensor_util\n",
    "drill_q.drop_table(\"icu_sensor_util\")\n",
    "drill_q.create_sensor_util()"
   ]
  },
  {
   "cell_type": "markdown",
   "metadata": {},
   "source": [
    "## Number of measures kept"
   ]
  },
  {
   "cell_type": "code",
   "execution_count": 24,
   "metadata": {
    "collapsed": false
   },
   "outputs": [
    {
     "data": {
      "text/html": [
       "<div>\n",
       "<table border=\"1\" class=\"dataframe\">\n",
       "  <thead>\n",
       "    <tr style=\"text-align: right;\">\n",
       "      <th></th>\n",
       "      <th>EXPR$0</th>\n",
       "    </tr>\n",
       "  </thead>\n",
       "  <tbody>\n",
       "    <tr>\n",
       "      <th>0</th>\n",
       "      <td>2877028</td>\n",
       "    </tr>\n",
       "  </tbody>\n",
       "</table>\n",
       "</div>"
      ],
      "text/plain": [
       "    EXPR$0\n",
       "0  2877028"
      ]
     },
     "execution_count": 24,
     "metadata": {},
     "output_type": "execute_result"
    }
   ],
   "source": [
    "drill_q.drill_conn.df_from_query(\"select count(1) from icu_sensor_util\")"
   ]
  },
  {
   "cell_type": "code",
   "execution_count": null,
   "metadata": {
    "collapsed": true
   },
   "outputs": [],
   "source": []
  }
 ],
 "metadata": {
  "kernelspec": {
   "display_name": "Python 2",
   "language": "python",
   "name": "python2"
  },
  "language_info": {
   "codemirror_mode": {
    "name": "ipython",
    "version": 2
   },
   "file_extension": ".py",
   "mimetype": "text/x-python",
   "name": "python",
   "nbconvert_exporter": "python",
   "pygments_lexer": "ipython2",
   "version": "2.7.12"
  }
 },
 "nbformat": 4,
 "nbformat_minor": 0
}
